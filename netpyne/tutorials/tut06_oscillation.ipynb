{
 "cells": [
  {
   "attachments": {},
   "cell_type": "markdown",
   "metadata": {},
   "source": [
    "# NetPyNE Tutorial 6: Oscillations\n",
    "\n",
    "This tutorial shows an example of a simple two-populations network that exhibits oscillatory behaviour. In the end you are proposed to try to modifiy different parameters to change the freqency of observed oscillations."
   ]
  },
  {
   "attachments": {},
   "cell_type": "markdown",
   "metadata": {},
   "source": [
    "## Preliminaries\n",
    "\n",
    "If you are going to run this notebook locally using Jupyter Notebook, start from following instructions https://github.com/Neurosim-lab/netpyne/blob/development/netpyne/tutorials/README.md.\n",
    "\n",
    "If you are using Open Source Brain or EBRAINS, everything is already set up.\n",
    "\n",
    "On any other online platform (e.g. on Google Collab) you might need to run the following commmands to install NEURON and NetPyNE using **pip**:\n",
    "```\n",
    "!pip install neuron\n",
    "!pip install netpyne\n",
    "```\n",
    "\n",
    "Now we are ready to start the tutorial."
   ]
  },
  {
   "cell_type": "code",
   "execution_count": null,
   "metadata": {
    "colab": {
     "base_uri": "https://localhost:8080/",
     "height": 1000
    },
    "executionInfo": {
     "elapsed": 5480,
     "status": "ok",
     "timestamp": 1621462283899,
     "user": {
      "displayName": "Salvador Dura-Bernal",
      "photoUrl": "",
      "userId": "10473966374056868820"
     },
     "user_tz": 240
    },
    "id": "f0P--qg5YUT6",
    "outputId": "a0d41a9f-ac05-434f-dc1f-2182ad919206"
   },
   "outputs": [],
   "source": [
    "from netpyne import specs, sim\n",
    "%matplotlib inline\n",
    "\n",
    "# Network parameters\n",
    "netParams = specs.NetParams()  # object of class NetParams to store the network parameters\n",
    "\n",
    "\n",
    "## Cell parameters\n",
    "netParams.cellParams['pyr'] = {\n",
    "    'secs': {\n",
    "        'soma': {\n",
    "            'geom': {\n",
    "                'diam': 18.8,   \n",
    "                'L': 18.8, \n",
    "                'Ra': 123.0},\n",
    "            'mechs': {\n",
    "                'hh': {\n",
    "                    'gnabar': 0.12, \n",
    "                    'gkbar': 0.036, \n",
    "                    'gl': 0.0003, \n",
    "                    'el': -70}\n",
    "            }\n",
    "        }\n",
    "    }\n",
    "}                \n",
    "\n",
    "\n",
    "## Population parameters\n",
    "netParams.popParams['E'] = {\n",
    "    'cellType': 'pyr', \n",
    "    'numCells': 20}\n",
    "\n",
    "netParams.popParams['I'] = {\n",
    "    'cellType': 'pyr', \n",
    "    'numCells': 20}\n",
    "\n",
    "\n",
    "## Synaptic mechanism parameters\n",
    "netParams.synMechParams['exc'] = {\n",
    "    'mod': 'Exp2Syn', \n",
    "    'tau1': 0.1, \n",
    "    'tau2': 5.0, \n",
    "    'e': 0}  # excitatory synaptic mechanism\n",
    "\n",
    "netParams.synMechParams['inh'] = {\n",
    "    'mod': 'Exp2Syn', \n",
    "    'tau1': 0.1, \n",
    "    'tau2': 5.0, \n",
    "    'e': -70}  # inhibitory synaptic mechanism\n",
    "\n",
    "\n",
    "# Stimulation parameters\n",
    "netParams.stimSourceParams['bkg'] = {\n",
    "    'type': 'NetStim', \n",
    "    'rate': 50, \n",
    "    'noise': 0.5}\n",
    "    \n",
    "netParams.stimTargetParams['bkg->E'] = {\n",
    "    'source': 'bkg', \n",
    "    'conds': {'pop': 'E'}, \n",
    "    'weight': 0.01, \n",
    "    'delay': 5, \n",
    "    'synMech': 'exc'}\n",
    "\n",
    "\n",
    "## Connectivity rules\n",
    "netParams.connParams['E->I'] = {    #  S -> I label\n",
    "    'preConds': {'pop': 'E'},       # conditions of presyn cells\n",
    "    'postConds': {'pop': 'I'},      # conditions of postsyn cells\n",
    "    'divergence': 5,               # probability of connection\n",
    "    'weight': 0.01,                 # synaptic weight\n",
    "    'delay': 5,                     # transmission delay (ms)\n",
    "    'synMech': 'exc'}               # synaptic mechanism\n",
    "\n",
    "netParams.connParams['I->E'] = {    #  I -> S label\n",
    "    'preConds': {'pop': 'I'},       # conditions of presyn cells\n",
    "    'postConds': {'pop': 'E'},      # conditions of postsyn cells\n",
    "    'probability': 0.7,               # probability of connection\n",
    "    'weight': 0.02,                 # synaptic weight\n",
    "    'delay': 5,                     # transmission delay (ms)\n",
    "    'synMech': 'inh'}               # synaptic mechanism\n",
    "\n",
    "\n",
    "# Simulation options\n",
    "simConfig = specs.SimConfig()       # object of class SimConfig to store simulation configuration\n",
    "\n",
    "simConfig.duration = 1*1e3          # Duration of the simulation, in ms\n",
    "simConfig.dt = 0.01                # Internal integration timestep to use\n",
    "simConfig.verbose = False           # Show detailed messages\n",
    "simConfig.recordTraces = {'V_soma':{'sec':'soma','loc':0.5,'var':'v'}}  # Dict with traces to record\n",
    "simConfig.recordStep = 0.1          # Step size in ms to save data (eg. V traces, LFP, etc)\n",
    "simConfig.filename = 'tut_oscillation'  # Set file output name\n",
    "simConfig.saveJson = False\n",
    "\n",
    "simConfig.recordLFP = [[50, 50, 50]]\n",
    "simConfig.recordDipole = True\n",
    "\n",
    "simConfig.analysis['plotTraces'] = {'include': [1], 'saveFig': True}  # Plot recorded traces for this list of cells\n",
    "simConfig.analysis['plotRaster'] = {'showFig': True}                  # Plot a raster\n",
    "simConfig.analysis['plotSpikeHist'] = {'include': ['E', 'I'], 'showFig': True}\n",
    "simConfig.analysis['plotRateSpectrogram'] = {'include': ['all'], 'saveFig': True}\n",
    "\n",
    "\n",
    "# Create network and run simulation\n",
    "sim.createSimulateAnalyze(netParams = netParams, simConfig = simConfig)\n"
   ]
  },
  {
   "cell_type": "code",
   "execution_count": null,
   "metadata": {
    "colab": {
     "base_uri": "https://localhost:8080/",
     "height": 1000
    },
    "executionInfo": {
     "elapsed": 5480,
     "status": "ok",
     "timestamp": 1621462283899,
     "user": {
      "displayName": "Salvador Dura-Bernal",
      "photoUrl": "",
      "userId": "10473966374056868820"
     },
     "user_tz": 240
    },
    "id": "f0P--qg5YUT6",
    "outputId": "a0d41a9f-ac05-434f-dc1f-2182ad919206"
   },
   "outputs": [],
   "source": [
    "sim.plotting.plotLFPTimeSeries(electrodes=[0])"
   ]
  },
  {
   "cell_type": "code",
   "execution_count": null,
   "metadata": {
    "colab": {
     "base_uri": "https://localhost:8080/",
     "height": 1000
    },
    "executionInfo": {
     "elapsed": 5480,
     "status": "ok",
     "timestamp": 1621462283899,
     "user": {
      "displayName": "Salvador Dura-Bernal",
      "photoUrl": "",
      "userId": "10473966374056868820"
     },
     "user_tz": 240
    },
    "id": "f0P--qg5YUT6",
    "outputId": "a0d41a9f-ac05-434f-dc1f-2182ad919206"
   },
   "outputs": [],
   "source": [
    "sim.plotting.plotLFPSpectrogram(electrodes=[0])"
   ]
  },
  {
   "cell_type": "code",
   "execution_count": null,
   "metadata": {
    "colab": {
     "base_uri": "https://localhost:8080/",
     "height": 1000
    },
    "executionInfo": {
     "elapsed": 5480,
     "status": "ok",
     "timestamp": 1621462283899,
     "user": {
      "displayName": "Salvador Dura-Bernal",
      "photoUrl": "",
      "userId": "10473966374056868820"
     },
     "user_tz": 240
    },
    "id": "f0P--qg5YUT6",
    "outputId": "a0d41a9f-ac05-434f-dc1f-2182ad919206"
   },
   "outputs": [],
   "source": [
    "sim.analysis.plotDipole()"
   ]
  },
  {
   "cell_type": "code",
   "execution_count": null,
   "metadata": {
    "colab": {
     "base_uri": "https://localhost:8080/",
     "height": 1000
    },
    "executionInfo": {
     "elapsed": 5480,
     "status": "ok",
     "timestamp": 1621462283899,
     "user": {
      "displayName": "Salvador Dura-Bernal",
      "photoUrl": "",
      "userId": "10473966374056868820"
     },
     "user_tz": 240
    },
    "id": "f0P--qg5YUT6",
    "outputId": "a0d41a9f-ac05-434f-dc1f-2182ad919206"
   },
   "outputs": [],
   "source": [
    "!pip install h5py\n",
    "sim.analysis.plotEEG()"
   ]
  },
  {
   "attachments": {},
   "cell_type": "markdown",
   "metadata": {
    "id": "P8deeT59anO8"
   },
   "source": [
    "## Hands-on exercise\n",
    "\n",
    "Modify parameters and rerun the model to get different oscillation frequencies.\n",
    "\n",
    "Hint 1: try changing connection parameters (weights, probability, delay, synaptic time constants) and cell biophysics \n",
    "\n",
    "Hint 2: if you want the simulation to run faster comment out the `simConfig.recordLFP = [[50, 50, 50]]` and `simConfig.recordDipole = True` lines"
   ]
  }
 ],
 "metadata": {
  "colab": {
   "collapsed_sections": [],
   "name": "tut_netpyne_osc_start.ipynb",
   "provenance": []
  },
  "kernelspec": {
   "display_name": "Python 3 (ipykernel)",
   "language": "python",
   "name": "python3"
  },
  "language_info": {
   "codemirror_mode": {
    "name": "ipython",
    "version": 3
   },
   "file_extension": ".py",
   "mimetype": "text/x-python",
   "name": "python",
   "nbconvert_exporter": "python",
   "pygments_lexer": "ipython3",
   "version": "3.9.16"
  }
 },
 "nbformat": 4,
 "nbformat_minor": 4
}
