{
 "cells": [
  {
   "attachments": {},
   "cell_type": "markdown",
   "metadata": {},
   "source": [
    "# NetPyNE Tutorial 7: Multiscale Network\n",
    "\n"
   ]
  },
  {
   "attachments": {},
   "cell_type": "markdown",
   "metadata": {},
   "source": [
    "## Preliminaries\n",
    "\n",
    "If you are going to run this notebook locally using Jupyter Notebook, start from following instructions https://github.com/Neurosim-lab/netpyne/blob/development/netpyne/tutorials/README.md.\n",
    "\n",
    "If you are using Open Source Brain or EBRAINS, everything is already set up.\n",
    "\n",
    "On any other online platform (e.g. on Google Collab) you might need to run the following commmands to install NEURON and NetPyNE using **pip**:\n",
    "```\n",
    "!pip install neuron\n",
    "!pip install netpyne\n",
    "```\n",
    "\n",
    "Now we are ready to start the tutorial."
   ]
  },
  {
   "attachments": {},
   "cell_type": "markdown",
   "metadata": {},
   "source": [
    "## Compile mechanisms\n",
    "\n",
    "The cell models require membrane mechanisms (e.g. channel models) that are not built-in to NEURON.  So, now we will compile the necessary mechanisms (in the `mod` directory) using `nrnivmodl`.  You can learn more about mechanisms and `.mod` files in the [NEURON documentation](https://www.neuron.yale.edu/neuron/static/py_doc/modelspec/programmatic/mechanisms/nmodl.html). "
   ]
  },
  {
   "cell_type": "code",
   "execution_count": null,
   "metadata": {},
   "outputs": [],
   "source": [
    "!nrnivmodl mod"
   ]
  },
  {
   "cell_type": "code",
   "execution_count": null,
   "metadata": {
    "colab": {
     "base_uri": "https://localhost:8080/",
     "height": 1000
    },
    "executionInfo": {
     "elapsed": 5480,
     "status": "ok",
     "timestamp": 1621462283899,
     "user": {
      "displayName": "Salvador Dura-Bernal",
      "photoUrl": "",
      "userId": "10473966374056868820"
     },
     "user_tz": 240
    },
    "id": "f0P--qg5YUT6",
    "outputId": "a0d41a9f-ac05-434f-dc1f-2182ad919206"
   },
   "outputs": [],
   "source": [
    "from netpyne import specs, sim\n",
    "\n",
    "# should go after importing netpyne\n",
    "import matplotlib\n",
    "%matplotlib inline\n",
    "\n",
    "#------------------------------------------------------------------------------\n",
    "#\n",
    "# NETWORK PARAMETERS\n",
    "#\n",
    "#------------------------------------------------------------------------------\n",
    "\n",
    "netParams = specs.NetParams()  # object of class NetParams to store the network parameters\n",
    "\n",
    "netParams.sizeX = 100 # x-dimension (horizontal length) size in um\n",
    "netParams.sizeY = 500 # y-dimension (vertical height or cortical depth) size in um\n",
    "netParams.sizeZ = 100 # z-dimension (horizontal length) size in um\n",
    "netParams.propVelocity = 100.0 # propagation velocity (um/ms)\n",
    "netParams.probLengthConst = 150.0 # length constant for conn probability (um)\n",
    "\n",
    "#------------------------------------------------------------------------------\n",
    "## Cell parameters\n",
    "netParams.loadCellParams(label='E', fileName='cells/CSTR_cellParams.json')\n",
    "netParams.importCellParams(label='I', fileName='cells/FScell.hoc', cellName='FScell')\n",
    "\n",
    "\n",
    "#------------------------------------------------------------------------------\n",
    "## Population parameters\n",
    "netParams.popParams['E2'] = {'cellType': 'E', 'numCells': 10, 'yRange': [50,150]}\n",
    "netParams.popParams['I2'] = {'cellType': 'I', 'numCells': 10, 'yRange': [50,150]}\n",
    "netParams.popParams['E4'] = {'cellType': 'E', 'numCells': 10, 'yRange': [150,300]}\n",
    "netParams.popParams['I4'] = {'cellType': 'I', 'numCells': 10, 'yRange': [150,300]}\n",
    "netParams.popParams['E5'] = {'cellType': 'E', 'numCells': 10, 'ynormRange': [0.6,1.0]}\n",
    "netParams.popParams['I5'] = {'cellType': 'I', 'numCells': 10, 'ynormRange': [0.6,1.0]}\n",
    "\n",
    "#------------------------------------------------------------------------------\n",
    "## Synaptic mechanism parameters\n",
    "netParams.synMechParams['exc'] = {'mod': 'Exp2Syn', 'tau1': 0.8, 'tau2': 5.3, 'e': 0}  # NMDA synaptic mechanism\n",
    "netParams.synMechParams['inh'] = {'mod': 'Exp2Syn', 'tau1': 0.6, 'tau2': 8.5, 'e': -75}  # GABA synaptic mechanism\n",
    "\n",
    "#------------------------------------------------------------------------------\n",
    "# Stimulation parameters\n",
    "netParams.stimSourceParams['bkg'] = {'type': 'NetStim', 'rate': 20, 'noise': 0.3}\n",
    "netParams.stimTargetParams['bkg->E'] = {'source': 'bkg', 'conds': {'cellType': ['E']}, 'weight': 0.02, 'sec': 'soma', 'delay': 'max(1, normal(5,2))', 'synMech': 'exc'}\n",
    "netParams.stimTargetParams['bkg->I'] = {'source': 'bkg', 'conds': {'cellType': ['I']}, 'weight': 0.004, 'sec': 'soma', 'delay': 'max(1, normal(5,2))', 'synMech': 'exc'}\n",
    "\n",
    "#------------------------------------------------------------------------------\n",
    "# Cell connectivity rules\n",
    "netParams.connParams['E->all'] = {\n",
    "  'preConds': {'cellType': 'E'}, \n",
    "  'postConds': {'y': [50,500]},  #  E -> all (100-1000 um)\n",
    "  'probability': 0.1,                  # probability of connection\n",
    "  'weight': '0.04*post_ynorm',         # synaptic weight \n",
    "  'delay': 'dist_3D/propVelocity',      # transmission delay (ms) \n",
    "  'synMech': 'exc'}                     # synaptic mechanism \n",
    "\n",
    "netParams.connParams['I->E'] = {\n",
    "  'preConds': {'cellType': 'I'}, \n",
    "  'postConds': {'pop': ['E2','E4','E5']},       #  I -> E\n",
    "  'probability': '0.3*exp(-dist_3D/probLengthConst)',   # probability of connection\n",
    "  'weight': 0.01,                                      # synaptic weight \n",
    "  'delay': 'dist_3D/propVelocity',                      # transmission delay (ms) \n",
    "  'sec': ['soma','Bdend'], \n",
    "  'synMech': 'inh'}                                     # synaptic mechanism \n",
    "\n",
    "\n",
    "\n",
    "#------------------------------------------------------------------------------\n",
    "## RxD params\n",
    "\n",
    "### constants\n",
    "\n",
    "## Change ip3_init from 0 to 0.1 to observe multiscale effect:  \n",
    "## netParams.rxdParams['constants']['ip3_init'] = 0.1\n",
    "## high ip3 -> ER Ca released to Cyt -> kBK channels open -> less firing \n",
    "\n",
    "constants = {'ip3_init': 0.0,  # initial ip3 concentration \n",
    "            'caDiff': 0.08,  # calcium diffusion coefficient\n",
    "            'ip3Diff': 1.41,  # ip3 diffusion coefficient\n",
    "            'caci_init': 1e-5,  # intracellular calcium initial concentration\n",
    "            'caco_init': 2.0,   # extracellular calcium initial concentration\n",
    "            'gip3r': 12040 * 100,  # ip3 receptors density\n",
    "            'gserca': 0.3913,  # SERCA conductance\n",
    "            'gleak': 6.020,   # ER leak channel conductance\n",
    "            'kserca': 0.1,  # SERCA reaction constant\n",
    "            'kip3': 0.15,  # ip3 reaction constant\n",
    "            'kact': 0.4,  #\n",
    "            'ip3rtau': 2000,  # ip3 receptors time constant\n",
    "            'fc': 0.8,  # fraction of cytosol\n",
    "            'fe': 0.2,  # fraction of ER\n",
    "            'margin': 20}  # extracellular volume additional margin \n",
    "\n",
    "netParams.rxdParams['constants'] = constants\n",
    "\n",
    "### regions\n",
    "regions = {}\n",
    "regions['cyt'] = {'cells': 'all', 'secs': 'all', 'nrn_region': 'i', 'geometry': {'class': 'FractionalVolume', 'args': {'volume_fraction': constants['fc'], 'surface_fraction': 1}}}\n",
    "regions['er'] = {'cells': 'all', 'secs': 'all', 'geometry': {'class': 'FractionalVolume', 'args': {'volume_fraction': constants['fe']}}}\n",
    "regions['cyt_er_membrane'] = {'cells': 'all', 'secs': 'all', 'geometry': {'class': 'ScalableBorder', 'args': {'scale': 1, 'on_cell_surface': False}}}\n",
    "\n",
    "margin = 20  # extracellular volume additional margin \n",
    "x, y, z = [0-margin, 100+margin], [-500-margin, 0+margin], [0-margin, 100+margin]\n",
    "regions['ecs'] = {'extracellular': True, 'xlo': x[0], 'ylo': y[0], 'zlo': z[0], 'xhi': x[1], 'yhi': y[1], 'zhi': z[1], 'dx': 5, 'volume_fraction': 0.2, 'tortuosity': 1.6} \n",
    "\n",
    "netParams.rxdParams['regions'] = regions\n",
    "\n",
    "### species \n",
    "species = {}\n",
    "species['ca'] = {'regions': ['cyt', 'er', 'ecs'], 'd': constants['caDiff'], 'charge': 2,\n",
    "                'initial': 'caco_init if isinstance(node,rxd.node.NodeExtracellular) else (0.0017 - caci_init * fc) / fe if node.region == er else caci_init'}\n",
    "species['ip3'] = {'regions': ['cyt'], 'd': constants['ip3Diff'], 'initial': constants['ip3_init']}\n",
    "netParams.rxdParams['species'] = species\n",
    "\n",
    "### states\n",
    "netParams.rxdParams['states'] = {'ip3r_gate_state': {'regions': ['cyt_er_membrane'], 'initial': 0.8}}\n",
    "\n",
    "### reactions\n",
    "minf = 'ip3[cyt] * 1000. * ca[cyt] / (ip3[cyt] + kip3) / (1000. * ca[cyt] + kact)'\n",
    "h_gate = 'ip3r_gate_state[cyt_er_membrane]'\n",
    "kip3 = 'gip3r * (%s * %s) ** 3' % (minf, h_gate)\n",
    "\n",
    "mcReactions = {}\n",
    "mcReactions['serca'] = {'reactant': 'ca[cyt]', 'product': 'ca[er]', 'rate_f': 'gserca / ((kserca / (1000. * ca[cyt])) ** 2 + 1)', 'membrane': 'cyt_er_membrane', 'custom_dynamics': True}\n",
    "mcReactions['leak'] = {'reactant': 'ca[er]', 'product': 'ca[cyt]', 'rate_f': constants['gleak'], 'rate_b': constants['gleak'], 'membrane': 'cyt_er_membrane'}\n",
    "mcReactions['ip3r'] = {'reactant': 'ca[er]', 'product': 'ca[cyt]', 'rate_f': kip3, 'rate_b': kip3, 'membrane': 'cyt_er_membrane'}\n",
    "netParams.rxdParams['multicompartmentReactions'] = mcReactions\n",
    "\n",
    "### rates\n",
    "netParams.rxdParams['rates'] = {'ip3rg': {'species': h_gate, 'rate': '(1. / (1 + 1000. * ca[cyt] / (0.3)) - %s) / ip3rtau'%(h_gate)}}\n",
    "\n",
    "\n",
    "\n",
    "\n",
    "#------------------------------------------------------------------------------\n",
    "#\n",
    "# SIMULATION CONFIGURATION\n",
    "#\n",
    "#------------------------------------------------------------------------------\n",
    "\n",
    "# Run parameters\n",
    "simConfig = specs.SimConfig()       # object of class simConfig to store simulation configuration\n",
    "simConfig.duration = 1.0*1e3        # Duration of the simulation, in ms\n",
    "simConfig.hParams['v_init'] = -65   # set v_init to -65 mV\n",
    "simConfig.dt = 0.1                  # Internal integration timestep to use\n",
    "simConfig.verbose = False            # Show detailed messages \n",
    "simConfig.recordStep = 1             # Step size in ms to save data (eg. V traces, LFP, etc)\n",
    "simConfig.filename = 'rxd_net'   # Set file output name\n",
    "\n",
    "\n",
    "# Recording/plotting parameters\n",
    "simConfig.recordTraces = {'V_soma':{'sec': 'soma','loc': 0.5,'var': 'v'},\n",
    "                          'ik_soma': {'sec': 'soma', 'loc': 0.5, 'var': 'ik'},\n",
    "                          'cai_soma': {'sec': 'soma', 'loc':0.5, 'var': 'cai'},\n",
    "                          'cao_soma': {'sec': 'soma', 'loc': 0.5, 'var': 'cao'}}\n",
    "\n",
    "simConfig.recordLFP = [[-15, y, 1.0*netParams.sizeZ] for y in range(int(netParams.sizeY/3), int(netParams.sizeY), int(netParams.sizeY/3))]\n",
    "simConfig.recordDipole = True\n",
    "\n",
    "simConfig.analysis['plotTraces'] ={'include': [0]}\n",
    "simConfig.analysis['plotRaster'] = {'orderBy': 'y', 'orderInverse': True, 'saveFig': True, 'figSize': (9,3)}      # Plot a raster\n",
    "simConfig.analysis['plotLFP'] = {'includeAxon': False, 'figSize': (6,10), 'saveFig': True} \n",
    "simConfig.analysis['plotRxDConcentration'] = {'speciesLabel': 'ca', 'regionLabel': 'ecs'}\n",
    "\n",
    "\n",
    "#from netpyne import sim\n",
    "sim.createSimulateAnalyze(netParams, simConfig)"
   ]
  },
  {
   "cell_type": "code",
   "execution_count": null,
   "metadata": {
    "colab": {
     "base_uri": "https://localhost:8080/",
     "height": 1000
    },
    "executionInfo": {
     "elapsed": 5480,
     "status": "ok",
     "timestamp": 1621462283899,
     "user": {
      "displayName": "Salvador Dura-Bernal",
      "photoUrl": "",
      "userId": "10473966374056868820"
     },
     "user_tz": 240
    },
    "id": "f0P--qg5YUT6",
    "outputId": "a0d41a9f-ac05-434f-dc1f-2182ad919206"
   },
   "outputs": [],
   "source": [
    "sim.plotting.plotLFPTimeSeries()"
   ]
  },
  {
   "cell_type": "code",
   "execution_count": null,
   "metadata": {
    "colab": {
     "base_uri": "https://localhost:8080/",
     "height": 1000
    },
    "executionInfo": {
     "elapsed": 5480,
     "status": "ok",
     "timestamp": 1621462283899,
     "user": {
      "displayName": "Salvador Dura-Bernal",
      "photoUrl": "",
      "userId": "10473966374056868820"
     },
     "user_tz": 240
    },
    "id": "f0P--qg5YUT6",
    "outputId": "a0d41a9f-ac05-434f-dc1f-2182ad919206"
   },
   "outputs": [],
   "source": [
    "sim.plotting.plotLFPSpectrogram(electrodes=['avg'])"
   ]
  },
  {
   "cell_type": "code",
   "execution_count": null,
   "metadata": {
    "colab": {
     "base_uri": "https://localhost:8080/",
     "height": 1000
    },
    "executionInfo": {
     "elapsed": 5480,
     "status": "ok",
     "timestamp": 1621462283899,
     "user": {
      "displayName": "Salvador Dura-Bernal",
      "photoUrl": "",
      "userId": "10473966374056868820"
     },
     "user_tz": 240
    },
    "id": "f0P--qg5YUT6",
    "outputId": "a0d41a9f-ac05-434f-dc1f-2182ad919206"
   },
   "outputs": [],
   "source": [
    "sim.analysis.plotDipole()"
   ]
  },
  {
   "cell_type": "code",
   "execution_count": null,
   "metadata": {
    "colab": {
     "base_uri": "https://localhost:8080/",
     "height": 1000
    },
    "executionInfo": {
     "elapsed": 5480,
     "status": "ok",
     "timestamp": 1621462283899,
     "user": {
      "displayName": "Salvador Dura-Bernal",
      "photoUrl": "",
      "userId": "10473966374056868820"
     },
     "user_tz": 240
    },
    "id": "f0P--qg5YUT6",
    "outputId": "a0d41a9f-ac05-434f-dc1f-2182ad919206"
   },
   "outputs": [],
   "source": [
    "!pip install h5py\n",
    "sim.analysis.plotEEG()"
   ]
  },
  {
   "attachments": {},
   "cell_type": "markdown",
   "metadata": {
    "id": "P8deeT59anO8"
   },
   "source": [
    "Try changing the 'ip3_init' concentration to 0.1 and checking the effect it has on LFP and EEG. \n",
    "\n",
    "This demonstrates the effects of changes at the molecular scale affect the cellular and circuit scales, and are reflected in large-scale recording modalities (LFP, EEG). "
   ]
  }
 ],
 "metadata": {
  "colab": {
   "collapsed_sections": [],
   "name": "tut_netpyne_osc_start.ipynb",
   "provenance": []
  },
  "interpreter": {
   "hash": "3c21b5cca3d53abc9a13c749d6f1f5a0a8097b3d1301b053fb89097dcdc54130"
  },
  "kernelspec": {
   "display_name": "Python 3 (ipykernel)",
   "language": "python",
   "name": "python3"
  },
  "language_info": {
   "codemirror_mode": {
    "name": "ipython",
    "version": 3
   },
   "file_extension": ".py",
   "mimetype": "text/x-python",
   "name": "python",
   "nbconvert_exporter": "python",
   "pygments_lexer": "ipython3",
   "version": "3.8.10"
  }
 },
 "nbformat": 4,
 "nbformat_minor": 4
}
