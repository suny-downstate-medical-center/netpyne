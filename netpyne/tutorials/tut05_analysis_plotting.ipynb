{
 "cells": [
  {
   "attachments": {},
   "cell_type": "markdown",
   "metadata": {
    "id": "RRlxTCVG35B0"
   },
   "source": [
    "## NetPyNE Tutorial 5: Analysis and Plotting"
   ]
  },
  {
   "attachments": {},
   "cell_type": "markdown",
   "metadata": {},
   "source": [
    "## Preliminaries\n",
    "\n",
    "If you are going to run this notebook locally using Jupyter Notebook, start from following instructions https://github.com/Neurosim-lab/netpyne/blob/development/netpyne/tutorials/README.md.\n",
    "\n",
    "If you are using Open Source Brain or EBRAINS, everything is already set up.\n",
    "\n",
    "On any other online platform (e.g. on Google Collab) you might need to run the following commmands to install NEURON and NetPyNE using **pip**:\n",
    "```\n",
    "!pip install neuron\n",
    "!pip install netpyne\n",
    "```\n",
    "\n",
    "Now we are ready to start the tutorial."
   ]
  },
  {
   "attachments": {},
   "cell_type": "markdown",
   "metadata": {},
   "source": [
    "## Compile mechanisms\n",
    "\n",
    "The cell models require membrane mechanisms (e.g. channel models) that are not built-in to NEURON.  So, now we will compile the necessary mechanisms (in the `mod` directory) using `nrnivmodl`.  You can learn more about mechanisms and `.mod` files in the [NEURON documentation](https://www.neuron.yale.edu/neuron/static/py_doc/modelspec/programmatic/mechanisms/nmodl.html). "
   ]
  },
  {
   "cell_type": "code",
   "execution_count": null,
   "metadata": {},
   "outputs": [],
   "source": [
    "!nrnivmodl mod"
   ]
  },
  {
   "attachments": {},
   "cell_type": "markdown",
   "metadata": {
    "id": "VxNcuIfJ65LH"
   },
   "source": [
    "## Load a tutorial\n",
    "\n",
    "We will be modifying `gui_tut3` and running that to explore analyses and plotting.\n"
   ]
  },
  {
   "cell_type": "code",
   "execution_count": null,
   "metadata": {
    "id": "ot3uw7v94Sw1"
   },
   "outputs": [],
   "source": [
    "from netpyne import specs\n",
    "\n",
    "\n",
    "#------------------------------------------------------------------------------\n",
    "#\n",
    "# NETWORK PARAMETERS\n",
    "#\n",
    "#------------------------------------------------------------------------------\n",
    "\n",
    "netParams = specs.NetParams()  # object of class NetParams to store the network parameters\n",
    "\n",
    "netParams.sizeX = 100 # x-dimension (horizontal length) size in um\n",
    "netParams.sizeY = 500 # y-dimension (vertical height or cortical depth) size in um\n",
    "netParams.sizeZ = 100 # z-dimension (horizontal length) size in um\n",
    "netParams.propVelocity = 100.0 # propagation velocity (um/ms)\n",
    "netParams.probLengthConst = 150.0 # length constant for conn probability (um)\n",
    "\n",
    "#------------------------------------------------------------------------------\n",
    "## Cell parameters\n",
    "netParams.loadCellParams(label='E', fileName='cells/CSTR_cellParams.json')\n",
    "netParams.importCellParams(label='I', fileName='cells/FScell.hoc', cellName='FScell')\n",
    "\n",
    "\n",
    "#------------------------------------------------------------------------------\n",
    "## Population parameters\n",
    "netParams.popParams['E2'] = {'cellType': 'E', 'numCells': 10, 'yRange': [50,150]}\n",
    "netParams.popParams['I2'] = {'cellType': 'I', 'numCells': 10, 'yRange': [50,150]}\n",
    "netParams.popParams['E4'] = {'cellType': 'E', 'numCells': 10, 'yRange': [150,300]}\n",
    "netParams.popParams['I4'] = {'cellType': 'I', 'numCells': 10, 'yRange': [150,300]}\n",
    "netParams.popParams['E5'] = {'cellType': 'E', 'numCells': 10, 'ynormRange': [0.6,1.0]}\n",
    "netParams.popParams['I5'] = {'cellType': 'I', 'numCells': 10, 'ynormRange': [0.6,1.0]}\n",
    "\n",
    "#------------------------------------------------------------------------------\n",
    "## Synaptic mechanism parameters\n",
    "netParams.synMechParams['exc'] = {'mod': 'Exp2Syn', 'tau1': 0.8, 'tau2': 5.3, 'e': 0}  # NMDA synaptic mechanism\n",
    "netParams.synMechParams['inh'] = {'mod': 'Exp2Syn', 'tau1': 0.6, 'tau2': 8.5, 'e': -75}  # GABA synaptic mechanism\n",
    "\n",
    "#------------------------------------------------------------------------------\n",
    "# Stimulation parameters\n",
    "netParams.stimSourceParams['bkg'] = {'type': 'NetStim', 'rate': 20, 'noise': 0.3}\n",
    "netParams.stimTargetParams['bkg->E'] = {'source': 'bkg', 'conds': {'cellType': ['E']}, 'weight': 0.02, 'sec': 'soma', 'delay': 'max(1, normal(5,2))', 'synMech': 'exc'}\n",
    "netParams.stimTargetParams['bkg->I'] = {'source': 'bkg', 'conds': {'cellType': ['I']}, 'weight': 0.004, 'sec': 'soma', 'delay': 'max(1, normal(5,2))', 'synMech': 'exc'}\n",
    "\n",
    "#------------------------------------------------------------------------------\n",
    "# Cell connectivity rules\n",
    "netParams.connParams['E->all'] = {\n",
    "  'preConds': {'cellType': 'E'}, 'postConds': {'y': [50,500]},  #  E -> all (100-1000 um)\n",
    "  'probability': 0.1,                  # probability of connection\n",
    "  'weight': '0.04*post_ynorm',         # synaptic weight \n",
    "  'delay': 'dist_3D/propVelocity',      # transmission delay (ms) \n",
    "  'synMech': 'exc'}                     # synaptic mechanism \n",
    "\n",
    "netParams.connParams['I->E'] = {\n",
    "  'preConds': {'cellType': 'I'}, 'postConds': {'pop': ['E2','E4','E5']},       #  I -> E\n",
    "  'probability': '0.3*exp(-dist_3D/probLengthConst)',   # probability of connection\n",
    "  'weight': 0.01,                                      # synaptic weight \n",
    "  'delay': 'dist_3D/propVelocity',                      # transmission delay (ms) \n",
    "  'sec': ['soma','Bdend'], \n",
    "  'synMech': 'inh'}                                     # synaptic mechanism \n",
    "\n",
    "\n",
    "#------------------------------------------------------------------------------\n",
    "## RxD params\n",
    "\n",
    "### constants\n",
    "\n",
    "## Change ip3_init from 0 to 0.1 to observe multiscale effect:  \n",
    "## netParams.rxdParams['constants']['ip3_init'] = 0.1\n",
    "## high ip3 -> ER Ca released to Cyt -> kBK channels open -> less firing \n",
    "\n",
    "constants = {'ip3_init': 0.0,  # initial ip3 concentration \n",
    "            'caDiff': 0.08,  # calcium diffusion coefficient\n",
    "            'ip3Diff': 1.41,  # ip3 diffusion coefficient\n",
    "            'caci_init': 1e-5,  # intracellular calcium initial concentration\n",
    "            'caco_init': 2.0,   # extracellular calcium initial concentration\n",
    "            'gip3r': 12040 * 100,  # ip3 receptors density\n",
    "            'gserca': 0.3913,  # SERCA conductance\n",
    "            'gleak': 6.020,   # ER leak channel conductance\n",
    "            'kserca': 0.1,  # SERCA reaction constant\n",
    "            'kip3': 0.15,  # ip3 reaction constant\n",
    "            'kact': 0.4,  #\n",
    "            'ip3rtau': 2000,  # ip3 receptors time constant\n",
    "            'fc': 0.8,  # fraction of cytosol\n",
    "            'fe': 0.2,  # fraction of ER\n",
    "            'margin': 20}  # extracellular volume additional margin \n",
    "\n",
    "netParams.rxdParams['constants'] = constants\n",
    "\n",
    "### regions\n",
    "regions = {}\n",
    "regions['cyt'] = {'cells': 'all', 'secs': 'all', 'nrn_region': 'i', 'geometry': {'class': 'FractionalVolume', 'args': {'volume_fraction': constants['fc'], 'surface_fraction': 1}}}\n",
    "regions['er'] = {'cells': 'all', 'secs': 'all', 'geometry': {'class': 'FractionalVolume', 'args': {'volume_fraction': constants['fe']}}}\n",
    "regions['cyt_er_membrane'] = {'cells': 'all', 'secs': 'all', 'geometry': {'class': 'ScalableBorder', 'args': {'scale': 1, 'on_cell_surface': False}}}\n",
    "\n",
    "margin = 20  # extracellular volume additional margin \n",
    "x, y, z = [0-margin, 100+margin], [-500-margin, 0+margin], [0-margin, 100+margin]\n",
    "regions['ecs'] = {'extracellular': True, 'xlo': x[0], 'ylo': y[0], 'zlo': z[0], 'xhi': x[1], 'yhi': y[1], 'zhi': z[1], 'dx': 5, 'volume_fraction': 0.2, 'tortuosity': 1.6} \n",
    "\n",
    "netParams.rxdParams['regions'] = regions\n",
    "\n",
    "### species \n",
    "species = {}\n",
    "species['ca'] = {'regions': ['cyt', 'er', 'ecs'], 'd': constants['caDiff'], 'charge': 2,\n",
    "                'initial': 'caco_init if isinstance(node,rxd.node.NodeExtracellular) else (0.0017 - caci_init * fc) / fe if node.region == er else caci_init'}\n",
    "species['ip3'] = {'regions': ['cyt'], 'd': constants['ip3Diff'], 'initial': constants['ip3_init']}\n",
    "netParams.rxdParams['species'] = species\n",
    "\n",
    "### states\n",
    "netParams.rxdParams['states'] = {'ip3r_gate_state': {'regions': ['cyt_er_membrane'], 'initial': 0.8}}\n",
    "\n",
    "### reactions\n",
    "minf = 'ip3[cyt] * 1000. * ca[cyt] / (ip3[cyt] + kip3) / (1000. * ca[cyt] + kact)'\n",
    "h_gate = 'ip3r_gate_state[cyt_er_membrane]'\n",
    "kip3 = 'gip3r * (%s * %s) ** 3' % (minf, h_gate)\n",
    "\n",
    "mcReactions = {}\n",
    "mcReactions['serca'] = {'reactant': 'ca[cyt]', 'product': 'ca[er]', 'rate_f': 'gserca / ((kserca / (1000. * ca[cyt])) ** 2 + 1)', 'membrane': 'cyt_er_membrane', 'custom_dynamics': True}\n",
    "mcReactions['leak'] = {'reactant': 'ca[er]', 'product': 'ca[cyt]', 'rate_f': constants['gleak'], 'rate_b': constants['gleak'], 'membrane': 'cyt_er_membrane'}\n",
    "mcReactions['ip3r'] = {'reactant': 'ca[er]', 'product': 'ca[cyt]', 'rate_f': kip3, 'rate_b': kip3, 'membrane': 'cyt_er_membrane'}\n",
    "netParams.rxdParams['multicompartmentReactions'] = mcReactions\n",
    "\n",
    "### rates\n",
    "netParams.rxdParams['rates'] = {'ip3rg': {'species': h_gate, 'rate': '(1. / (1 + 1000. * ca[cyt] / (0.3)) - %s) / ip3rtau'%(h_gate)}}\n",
    "\n",
    "\n",
    "\n",
    "\n",
    "#------------------------------------------------------------------------------\n",
    "#\n",
    "# SIMULATION CONFIGURATION\n",
    "#\n",
    "#------------------------------------------------------------------------------\n",
    "\n",
    "# Run parameters\n",
    "simConfig = specs.SimConfig()       # object of class simConfig to store simulation configuration\n",
    "simConfig.duration = 1.0*1e3        # Duration of the simulation, in ms\n",
    "simConfig.hParams['v_init'] = -65   # set v_init to -65 mV\n",
    "simConfig.dt = 0.1                  # Internal integration timestep to use\n",
    "simConfig.verbose = False            # Show detailed messages \n",
    "simConfig.recordStep = 1             # Step size in ms to save data (eg. V traces, LFP, etc)\n",
    "simConfig.filename = 'rxd_net'   # Set file output name\n",
    "\n",
    "\n",
    "# Recording/plotting parameters\n",
    "simConfig.recordTraces = {'V_soma':{'sec': 'soma','loc': 0.5,'var': 'v'},\n",
    "                          'ik_soma': {'sec': 'soma', 'loc': 0.5, 'var': 'ik'},\n",
    "                          'cai_soma': {'sec': 'soma', 'loc':0.5, 'var': 'cai'},\n",
    "                          'cao_soma': {'sec': 'soma', 'loc': 0.5, 'var': 'cao'}}\n",
    "\n",
    "simConfig.recordLFP = [[-15, y, 1.0*netParams.sizeZ] for y in range(int(netParams.sizeY/3), int(netParams.sizeY), int(netParams.sizeY/3))]\n",
    "\n",
    "#simConfig.analysis['iplotTraces'] ={'include': [0]}\n",
    "simConfig.analysis['plotTraces'] = {'include': [('E2', 0), ('I2', 0), ('E4', 0), ('I4', 0), ('E5', 0), ('I5', 0)]}\n",
    "\n",
    "#simConfig.analysis['iplotRaster'] = {'orderBy': 'y', 'orderInverse': True, 'saveFig': True, 'figSize': (9,3)}      # Plot a raster\n",
    "#simConfig.analysis['iplotLFP'] = {'includeAxon': False, 'figSize': (6,10), 'saveFig': True} \n",
    "#simConfig.analysis['iplotRxDConcentration'] = {'speciesLabel': 'ca', 'regionLabel': 'ecs'}\n"
   ]
  },
  {
   "attachments": {},
   "cell_type": "markdown",
   "metadata": {
    "id": "grBSV-Q7B7m0"
   },
   "source": [
    "Now we will run the simulation."
   ]
  },
  {
   "cell_type": "code",
   "execution_count": null,
   "metadata": {
    "id": "YxETBf6o4ZKo"
   },
   "outputs": [],
   "source": [
    "from netpyne import sim\n",
    "sim.createSimulateAnalyze(netParams=netParams, simConfig=simConfig)"
   ]
  },
  {
   "attachments": {},
   "cell_type": "markdown",
   "metadata": {
    "id": "YdFBW3FLCLnN"
   },
   "source": [
    "Now we can begin exploring the analyses available in NetPyNE.\n",
    "\n",
    "## Analyses in NetPyNE\n",
    "\n",
    "Let's take a look at the NetPyNE Package Index for analysis:\n",
    "http://netpyne.org/netpyne.analysis.html#module-netpyne.analysis"
   ]
  },
  {
   "cell_type": "code",
   "execution_count": null,
   "metadata": {
    "id": "y1KUEz4k5WRv"
   },
   "outputs": [],
   "source": [
    "%matplotlib inline"
   ]
  },
  {
   "cell_type": "code",
   "execution_count": null,
   "metadata": {
    "id": "HnfgLlZ-I1BR"
   },
   "outputs": [],
   "source": [
    "sa = sim.analysis"
   ]
  },
  {
   "cell_type": "code",
   "execution_count": null,
   "metadata": {
    "colab": {
     "base_uri": "https://localhost:8080/",
     "height": 732
    },
    "executionInfo": {
     "elapsed": 1699,
     "status": "ok",
     "timestamp": 1623997129802,
     "user": {
      "displayName": "Evgenia Karunus",
      "photoUrl": "https://lh3.googleusercontent.com/a-/AOh14GhA2ccNLhFnt0hUfl13RoguCJ6cDbCPCY8_SVjQAg=s64",
      "userId": "04024508215281503990"
     },
     "user_tz": -300
    },
    "id": "6tdR7PeEJ7IN",
    "outputId": "e005a06b-63a0-4039-c4e0-1c89ea61f510"
   },
   "outputs": [],
   "source": [
    "sa.plot2Dnet();"
   ]
  },
  {
   "cell_type": "code",
   "execution_count": null,
   "metadata": {
    "id": "W8gBC8ctJ6-X"
   },
   "outputs": [],
   "source": [
    "sa.plot2Dnet(include=['E2', 'E4', 'E5']);"
   ]
  },
  {
   "cell_type": "code",
   "execution_count": null,
   "metadata": {
    "id": "mCZYDT0vUYKO"
   },
   "outputs": [],
   "source": [
    "sa.plot2Dnet(view='xz');"
   ]
  },
  {
   "cell_type": "code",
   "execution_count": null,
   "metadata": {
    "id": "vxUwdfpcKAJa"
   },
   "outputs": [],
   "source": [
    "sa.plotConn();"
   ]
  },
  {
   "cell_type": "code",
   "execution_count": null,
   "metadata": {
    "id": "8VfaAnOpKGCL"
   },
   "outputs": [],
   "source": [
    "sa.plotConn(includePre=['E2', 'E4', 'E5'], includePost=['I2', 'I4', 'I5']);"
   ]
  },
  {
   "cell_type": "code",
   "execution_count": null,
   "metadata": {
    "id": "iSs0pXZL8UHl"
   },
   "outputs": [],
   "source": [
    "sa.plotConn(feature='numConns');"
   ]
  },
  {
   "cell_type": "code",
   "execution_count": null,
   "metadata": {
    "id": "7zkzJ67eJN5F"
   },
   "outputs": [],
   "source": [
    "sa.plotConn(groupBy='cell', feature='weight');"
   ]
  },
  {
   "cell_type": "code",
   "execution_count": null,
   "metadata": {
    "id": "cMdkvqfsWG_7"
   },
   "outputs": [],
   "source": [
    "sa.plotConn(groupBy='cell', feature='weight', orderBy='y');"
   ]
  },
  {
   "cell_type": "code",
   "execution_count": null,
   "metadata": {
    "id": "pMOGSbkVG74P"
   },
   "outputs": [],
   "source": [
    "sa.plotRateSpectrogram();"
   ]
  },
  {
   "cell_type": "code",
   "execution_count": null,
   "metadata": {
    "id": "AitZZEXRG8rC"
   },
   "outputs": [],
   "source": [
    "sa.plotRateSpectrogram(include=['allCells']);"
   ]
  },
  {
   "cell_type": "code",
   "execution_count": null,
   "metadata": {
    "id": "jjQvp_vjXJoY"
   },
   "outputs": [],
   "source": [
    "sa.plotRateSpectrogram(include=['allCells'], timeRange=[0, 400]);"
   ]
  },
  {
   "cell_type": "code",
   "execution_count": null,
   "metadata": {
    "id": "KaKF75Z7IJW5"
   },
   "outputs": [],
   "source": [
    "sa.plotSpikeHist();"
   ]
  },
  {
   "cell_type": "code",
   "execution_count": null,
   "metadata": {
    "id": "ZmBxr458X1MD"
   },
   "outputs": [],
   "source": [
    "sa.plotSpikeHist(binSize=20);"
   ]
  },
  {
   "cell_type": "code",
   "execution_count": null,
   "metadata": {
    "id": "pSpumAJSX9TR"
   },
   "outputs": [],
   "source": [
    "sa.plotSpikeHist(binSize=20, measure='count');"
   ]
  },
  {
   "cell_type": "code",
   "execution_count": null,
   "metadata": {
    "id": "xiOjsRCIIJd5"
   },
   "outputs": [],
   "source": [
    "sa.plotSpikeStats();"
   ]
  },
  {
   "cell_type": "code",
   "execution_count": null,
   "metadata": {
    "id": "Rrg-G0OvYcDD"
   },
   "outputs": [],
   "source": [
    "fig, data = sa.plotSpikeStats(stats=['rate', 'isicv']);\n",
    "# more options are 'sync' and 'pairsync', but they require:\n",
    "# !pip install pyspike"
   ]
  },
  {
   "cell_type": "code",
   "execution_count": null,
   "metadata": {
    "id": "7-Fy9mfaIJol"
   },
   "outputs": [],
   "source": [
    "sa.plotTraces();"
   ]
  },
  {
   "cell_type": "code",
   "execution_count": null,
   "metadata": {
    "id": "p0HU13QRIJq-"
   },
   "outputs": [],
   "source": [
    "sa.plotTraces(oneFigPer='trace');"
   ]
  },
  {
   "cell_type": "code",
   "execution_count": null,
   "metadata": {
    "colab": {
     "base_uri": "https://localhost:8080/",
     "height": 164
    },
    "executionInfo": {
     "elapsed": 155,
     "status": "error",
     "timestamp": 1624138083622,
     "user": {
      "displayName": "Jessica Feldman",
      "photoUrl": "",
      "userId": "14873178662011488670"
     },
     "user_tz": 240
    },
    "id": "Mj7oWGhNawI7",
    "outputId": "cdb86540-1f11-461a-abd3-6fe26ee857e3"
   },
   "outputs": [],
   "source": [
    "sa.plotTraces(oneFigPer='trace', overlay=True);"
   ]
  },
  {
   "cell_type": "code",
   "execution_count": null,
   "metadata": {
    "id": "gjjzCJA2a_Do"
   },
   "outputs": [],
   "source": [
    "sa.plotTraces(oneFigPer='trace', overlay=True, axis=False);"
   ]
  },
  {
   "cell_type": "code",
   "execution_count": null,
   "metadata": {
    "id": "RGPPfq8HbReU"
   },
   "outputs": [],
   "source": [
    "sa.plotRaster();"
   ]
  },
  {
   "cell_type": "code",
   "execution_count": null,
   "metadata": {
    "id": "6aX4Bz16bojv"
   },
   "outputs": [],
   "source": [
    "sa.plotRaster(orderBy='y');"
   ]
  },
  {
   "cell_type": "code",
   "execution_count": null,
   "metadata": {
    "id": "AXTW0XTab29b"
   },
   "outputs": [],
   "source": [
    "sa.plotRaster(orderInverse=True, popRates=True);"
   ]
  },
  {
   "cell_type": "code",
   "execution_count": null,
   "metadata": {
    "id": "rb2422fscOKG"
   },
   "outputs": [],
   "source": [
    "sa.plotRaster(orderInverse=True, labels='overlay');"
   ]
  },
  {
   "cell_type": "code",
   "execution_count": null,
   "metadata": {
    "id": "FR1lkfY9cc2V"
   },
   "outputs": [],
   "source": [
    "sa.plotRaster(orderInverse=True, spikeHist='subplot');"
   ]
  },
  {
   "cell_type": "code",
   "execution_count": null,
   "metadata": {
    "id": "I84uEulgcrow"
   },
   "outputs": [],
   "source": [
    "sa.plotRaster(orderInverse=True, syncLines=True);"
   ]
  },
  {
   "cell_type": "code",
   "execution_count": null,
   "metadata": {
    "id": "z-2N6_5ic7Q9"
   },
   "outputs": [],
   "source": [
    "sa.plotRaster(orderInverse=True, marker='o');"
   ]
  },
  {
   "cell_type": "code",
   "execution_count": null,
   "metadata": {
    "id": "xv6wtVSXdJSq"
   },
   "outputs": [],
   "source": [
    "colors = {'E2': 'red'}"
   ]
  },
  {
   "cell_type": "code",
   "execution_count": null,
   "metadata": {
    "id": "Y0yZIQ3TdUZt"
   },
   "outputs": [],
   "source": [
    "colors['E4'] = 'pink'\n",
    "colors['E5'] = 'orange'\n",
    "colors['I2'] = 'blue'\n",
    "colors['I4'] = 'purple'\n",
    "colors['I5'] = 'black'"
   ]
  },
  {
   "cell_type": "code",
   "execution_count": null,
   "metadata": {
    "id": "c2ePsdhYdpdC"
   },
   "outputs": [],
   "source": [
    "sa.plotRaster(orderInverse=True, marker='o', popColors=colors);"
   ]
  },
  {
   "cell_type": "code",
   "execution_count": null,
   "metadata": {
    "id": "f8c0KO_SIJta"
   },
   "outputs": [],
   "source": [
    "sa.plotLFP();"
   ]
  },
  {
   "cell_type": "code",
   "execution_count": null,
   "metadata": {
    "id": "hG07GrYWIJv3"
   },
   "outputs": [],
   "source": []
  },
  {
   "cell_type": "code",
   "execution_count": null,
   "metadata": {
    "id": "UbnIkgDiIJyP"
   },
   "outputs": [],
   "source": [
    "sa.plotRxDConcentration(speciesLabel='ca', regionLabel='ecs');"
   ]
  },
  {
   "cell_type": "code",
   "execution_count": null,
   "metadata": {
    "id": "Z073XSVZIJ0Z"
   },
   "outputs": [],
   "source": [
    "for species in ['ca', 'ip3']:\n",
    "    for region in ['cyt', 'er', 'cyt_er_membrane', 'ecs']:\n",
    "        sa.plotRxDConcentration(speciesLabel=species, regionLabel=region);"
   ]
  },
  {
   "cell_type": "code",
   "execution_count": null,
   "metadata": {
    "id": "TKRh_vTPIJ6v"
   },
   "outputs": [],
   "source": []
  },
  {
   "cell_type": "code",
   "execution_count": null,
   "metadata": {
    "id": "a2WthFkxIJ9E"
   },
   "outputs": [],
   "source": []
  },
  {
   "cell_type": "code",
   "execution_count": null,
   "metadata": {
    "id": "XD7E_q-eIJ_U"
   },
   "outputs": [],
   "source": [
    "sim.simData"
   ]
  },
  {
   "cell_type": "code",
   "execution_count": null,
   "metadata": {
    "id": "djzxMEVZIKBz"
   },
   "outputs": [],
   "source": [
    "from IPython import display\n",
    "display.Image(\"docs/netstruct.png\")"
   ]
  },
  {
   "cell_type": "code",
   "execution_count": null,
   "metadata": {},
   "outputs": [],
   "source": [
    "sim.net.cells[0].secs.soma"
   ]
  }
 ],
 "metadata": {
  "colab": {
   "collapsed_sections": [],
   "name": "NetPyNE2021_Analysis_Plotting.ipynb",
   "provenance": []
  },
  "kernelspec": {
   "display_name": "Python 3 (ipykernel)",
   "language": "python",
   "name": "python3"
  },
  "language_info": {
   "codemirror_mode": {
    "name": "ipython",
    "version": 3
   },
   "file_extension": ".py",
   "mimetype": "text/x-python",
   "name": "python",
   "nbconvert_exporter": "python",
   "pygments_lexer": "ipython3",
   "version": "3.8.10"
  }
 },
 "nbformat": 4,
 "nbformat_minor": 4
}
