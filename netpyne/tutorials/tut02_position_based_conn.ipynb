{
 "cells": [
  {
   "attachments": {},
   "cell_type": "markdown",
   "metadata": {},
   "source": [
    "## NetPyNE Tutorial 2: Position- and distance-based connectivity"
   ]
  },
  {
   "attachments": {},
   "cell_type": "markdown",
   "metadata": {},
   "source": [
    "The following example demonstrates how to spatially separate populations, add inhibitory populations, and implement weights, probabilities of connection, and delays that depend on cell positions or distances.\n",
    "(more details http://netpyne.org/tutorial.html#tutorial-5-position-and-distance-based-connectivity)\n",
    "\n",
    "We will build a cortical-like network with six populations (three excitatory and three inhibitory) distributed in three layers: 2/3, 4 and 5. Since we want to distribute the cells spatially, the first thing we need to do is define the volume dimensions where cells will be placed."
   ]
  },
  {
   "attachments": {},
   "cell_type": "markdown",
   "metadata": {},
   "source": [
    "## Preliminaries\n",
    "\n",
    "If you are going to run this notebook locally using Jupyter Notebook, start from following instructions https://github.com/Neurosim-lab/netpyne/blob/development/netpyne/tutorials/README.md.\n",
    "\n",
    "If you are using Open Source Brain or EBRAINS, everything is already set up.\n",
    "\n",
    "On any other online platform (e.g. on Google Collab) you might need to run the following commmands to install NEURON and NetPyNE using **pip**:\n",
    "```\n",
    "!pip install neuron\n",
    "!pip install netpyne\n",
    "```\n",
    "\n",
    "Now we are ready to start NetPyNE Tutorial."
   ]
  },
  {
   "cell_type": "code",
   "execution_count": null,
   "metadata": {},
   "outputs": [],
   "source": [
    "from netpyne import specs, sim\n",
    "%matplotlib inline\n",
    "\n",
    "# Network parameters\n",
    "netParams = specs.NetParams()  # object of class NetParams to store the network parameters\n",
    "\n",
    "netParams.sizeX = 100              # x-dimension (horizontal length) size in um\n",
    "netParams.sizeY = 1000             # y-dimension (vertical height or cortical depth) size in um\n",
    "netParams.sizeZ = 100              # z-dimension (horizontal length) size in um\n",
    "netParams.propVelocity = 100.0     # propagation velocity (um/ms)\n",
    "netParams.probLengthConst = 150.0  # length constant for conn probability (um)\n"
   ]
  },
  {
   "attachments": {},
   "cell_type": "markdown",
   "metadata": {},
   "source": [
    "Note that we also added two parameters (propVelocity and probLengthConst) which we’ll use later for the connectivity rules.\n",
    "\n",
    "\n",
    "Next we can define cell properties of each type of cell (E and I), and create our populations labeled according to the cell type and layer e.g. ‘E2’ for excitatory cells in layer 2. We can define the cortical depth range of each population by using the `yRange` parameter. This range can also be specified using normalized values using `ynormRange`. "
   ]
  },
  {
   "cell_type": "code",
   "execution_count": null,
   "metadata": {},
   "outputs": [],
   "source": [
    "\n",
    "## Cell types\n",
    "secs = {} # sections dict\n",
    "secs['soma'] = {'geom': {}, 'mechs': {}}                                                # soma params dict\n",
    "secs['soma']['geom'] = {'diam': 15, 'L': 14, 'Ra': 120.0}                               # soma geometry\n",
    "secs['soma']['mechs']['hh'] = {'gnabar': 0.13, 'gkbar': 0.036, 'gl': 0.003, 'el': -70}  # soma hh mechanism\n",
    "netParams.cellParams['E'] = {'secs': secs}                                              # add dict to list of cell params\n",
    "\n",
    "secs = {} # sections dict\n",
    "secs['soma'] = {'geom': {}, 'mechs': {}}                                                # soma params dict\n",
    "secs['soma']['geom'] = {'diam': 10.0, 'L': 9.0, 'Ra': 110.0}                            # soma geometry\n",
    "secs['soma']['mechs']['hh'] = {'gnabar': 0.11, 'gkbar': 0.036, 'gl': 0.003, 'el': -70}  # soma hh mechanism\n",
    "netParams.cellParams['I'] = {'secs': secs}                                              # add dict to list of cell params\n",
    "\n",
    "## Population parameters\n",
    "netParams.popParams['E2'] = {'cellType': 'E', 'numCells': 50, 'yRange': [100,300]}\n",
    "netParams.popParams['I2'] = {'cellType': 'I', 'numCells': 50, 'yRange': [100,300]}\n",
    "netParams.popParams['E4'] = {'cellType': 'E', 'numCells': 50, 'yRange': [300,600]}\n",
    "netParams.popParams['I4'] = {'cellType': 'I', 'numCells': 50, 'yRange': [300,600]}\n",
    "netParams.popParams['E5'] = {'cellType': 'E', 'numCells': 50, 'ynormRange': [0.6,1.0]}\n",
    "netParams.popParams['I5'] = {'cellType': 'I', 'numCells': 50, 'ynormRange': [0.6,1.0]}\n",
    "\n",
    "\n",
    "## Synaptic mechanism parameters\n",
    "netParams.synMechParams['exc'] = {'mod': 'Exp2Syn', 'tau1': 0.8, 'tau2': 5.3, 'e': 0}  # NMDA synaptic mechanism\n",
    "netParams.synMechParams['inh'] = {'mod': 'Exp2Syn', 'tau1': 0.6, 'tau2': 8.5, 'e': -75}  # GABA synaptic mechanism\n"
   ]
  },
  {
   "attachments": {},
   "cell_type": "markdown",
   "metadata": {},
   "source": [
    "In terms of stimulation, we’ll add background inputs to all cell in the network. The weight will be fixed to 0.01, but we’ll make the delay come from a gaussian distribution with mean 5 ms and standard deviation 2, and have a minimum value of 1 ms. We can do this using string-based functions: `max(1, normal(5,2)`. "
   ]
  },
  {
   "cell_type": "code",
   "execution_count": null,
   "metadata": {},
   "outputs": [],
   "source": [
    "\n",
    "\n",
    "# Stimulation parameters\n",
    "netParams.stimSourceParams['bkg'] = {'type': 'NetStim', 'rate': 20, 'noise': 0.3}\n",
    "netParams.stimTargetParams['bkg->all'] = {'source': 'bkg', 'conds': {'cellType': ['E','I']}, 'weight': 0.01, 'delay': 'max(1, normal(5,2))', 'synMech': 'exc'}\n",
    "\n",
    "# Simulation options\n",
    "simConfig = specs.SimConfig()        # object of class SimConfig to store simulation configuration\n",
    "simConfig.duration = 1*1e3           # Duration of the simulation, in ms\n",
    "simConfig.dt = 0.025                 # Internal integration timestep to use\n",
    "simConfig.verbose = False            # Show detailed messages\n",
    "simConfig.recordTraces = {'V_soma':{'sec':'soma','loc':0.5,'var':'v'}}  # Dict with traces to record\n",
    "simConfig.recordStep = 1             # Step size in ms to save data (eg. V traces, LFP, etc)\n",
    "simConfig.filename = 'tut5'          # Set file output name\n",
    "simConfig.savePickle = False         # Save params, network and sim output to pickle file\n",
    "simConfig.saveMat = False            # Save params, network and sim output to pickle file\n",
    "\n",
    "\n",
    "simConfig.analysis['plotRaster'] = {'orderBy': 'y', 'orderInverse': True, 'saveFig': True}         # Plot a raster\n",
    "simConfig.analysis['plotTraces'] = {'include': [('E2',0), ('E4', 0), ('E5', 5)], 'saveFig': True, 'oneFigPer': 'trace'}  # Plot recorded traces for this list of cells\n",
    "simConfig.analysis['plot2Dnet'] = {'saveFig': True}                                                # plot 2D cell positions and connections\n",
    "simConfig.analysis['plotConn'] = {'saveFig': True}                                                 # plot connectivity matrix\n",
    "# simConfig.analysis['plot2Dfiring'] = {'saveFig': True, 'showFig': True}\n"
   ]
  },
  {
   "attachments": {},
   "cell_type": "markdown",
   "metadata": {},
   "source": [
    "If we run the model at this point we will see the cells are distributed into three layers as specified, and they all spike randomly with an average rate of 20 Hz driven by background input:"
   ]
  },
  {
   "cell_type": "code",
   "execution_count": null,
   "metadata": {},
   "outputs": [],
   "source": [
    "\n",
    "# Create network and run simulation\n",
    "sim.createSimulateAnalyze(netParams = netParams, simConfig = simConfig)"
   ]
  },
  {
   "attachments": {},
   "cell_type": "markdown",
   "metadata": {},
   "source": [
    "Let’s now add excitatory connections with some spatially-dependent properties to illustrate NetPyNE’s capabilities.\n",
    "\n",
    "Running the model now shows excitatory connections in red, and how cells in the deeper layers (higher y values) exhibit lower rates and higher synchronization, due to increased weights leading to depolarization blockade. This difference is also visible in the voltage traces of layer 2 vs layer 5 cells:"
   ]
  },
  {
   "cell_type": "code",
   "execution_count": null,
   "metadata": {},
   "outputs": [],
   "source": [
    "## Cell connectivity rules\n",
    "netParams.connParams['E->all'] = {\n",
    "    'preConds': {'cellType': 'E'}, 'postConds': {'y': [100,1000]},  #  E -> all (100-1000 um)\n",
    "    'probability': 0.1 ,                  # probability of connection\n",
    "    'weight': '0.005*post_ynorm',         # synaptic weight\n",
    "    'delay': 'dist_3D/propVelocity',      # transmission delay (ms)\n",
    "    'synMech': 'exc'}                     # synaptic mechanism\n",
    "\n",
    "# Create network and run simulation\n",
    "sim.createSimulateAnalyze(netParams = netParams, simConfig = simConfig)"
   ]
  },
  {
   "attachments": {},
   "cell_type": "markdown",
   "metadata": {},
   "source": [
    "Finally, we add inhibitory connections which will project only onto excitatory cells, specified here using the pop attribute.\n",
    "\n",
    "Notice that the 2D network diagram now shows inhibitory connections in blue, and these are mostly local/lateral within layers, due to the distance-related probability restriction. These local inhibitory connections reduce the overall synchrony, introducing some richness into the temporal firing patterns of the network."
   ]
  },
  {
   "cell_type": "code",
   "execution_count": null,
   "metadata": {},
   "outputs": [],
   "source": [
    "netParams.connParams['I->E'] = {\n",
    "    'preConds': {'cellType': 'I'}, 'postConds': {'pop': ['E2','E4','E5']},       #  I -> E\n",
    "    'probability': '0.4*exp(-dist_3D/probLengthConst)',   # probability of connection\n",
    "    'weight': 0.001,                                      # synaptic weight\n",
    "    'delay': 'dist_3D/propVelocity',                      # transmission delay (ms)\n",
    "    'synMech': 'inh'}                                     # synaptic mechanism\n",
    "\n",
    "# Create network and run simulation\n",
    "sim.createSimulateAnalyze(netParams = netParams, simConfig = simConfig)"
   ]
  }
 ],
 "metadata": {
  "kernelspec": {
   "display_name": "Python 3 (ipykernel)",
   "language": "python",
   "name": "python3"
  },
  "language_info": {
   "codemirror_mode": {
    "name": "ipython",
    "version": 3
   },
   "file_extension": ".py",
   "mimetype": "text/x-python",
   "name": "python",
   "nbconvert_exporter": "python",
   "pygments_lexer": "ipython3",
   "version": "3.9.16"
  }
 },
 "nbformat": 4,
 "nbformat_minor": 4
}
