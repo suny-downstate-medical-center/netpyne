{
 "cells": [
  {
   "cell_type": "markdown",
   "id": "6ae05cd3",
   "metadata": {},
   "source": [
    "# Saving and Loading Tutorial"
   ]
  },
  {
   "cell_type": "markdown",
   "id": "73c9ae78",
   "metadata": {},
   "source": [
    "## Preparing a virtual environment\n",
    "\n",
    "First, you need to have `Python3` and `openmpi` installed and running on your machine.\n",
    "\n",
    "In a new directory, here are the steps I took to create a virtual environment for this Jupyter notebook:\n",
    "\n",
    "\techo \"\" \n",
    "\techo \"Preparing a virtual environment for NetPyNE\" \n",
    "\techo \"=============================================================================\"\n",
    "\techo \"Using Python version:\"\n",
    "\tpython3 --version\n",
    "\techo \"Using Python from:\"\n",
    "\twhich python3\n",
    "\t\n",
    "\techo \"\"\n",
    "\techo \"Creating a virtual environment: python3 -m venv env\"\n",
    "\techo \"-----------------------------------------------------------------------------\"\n",
    "\tpython3 -m venv env\n",
    "\t\n",
    "\techo \"\"\n",
    "\techo \"Activating virtual environment: source env/bin/activate\"\n",
    "\techo \"-----------------------------------------------------------------------------\"\n",
    "\tsource env/bin/activate\n",
    "\t\n",
    "\techo \"\"\n",
    "\techo \"Updating pip: python3 -m pip install --upgrade pip\"\n",
    "\techo \"-----------------------------------------------------------------------------\"\n",
    "\tpython3 -m pip install --upgrade pip\n",
    "\n",
    "\techo \"\"\n",
    "\techo \"Installing wheel: python3 -m pip install --upgrade wheel\"\n",
    "\techo \"-----------------------------------------------------------------------------\"\n",
    "\tpython3 -m pip install --upgrade wheel\n",
    "\t\n",
    "\techo \"\"\n",
    "\techo \"Installing ipython: python3 -m pip install --upgrade ipython\"\n",
    "\techo \"-----------------------------------------------------------------------------\"\n",
    "\tpython3 -m pip install ipython\n",
    "\t\n",
    "\techo \"\"\n",
    "\techo \"Installing NEURON: python3 -m pip install --upgrade neuron\"\n",
    "\techo \"-----------------------------------------------------------------------------\"\n",
    "\tpython3 -m pip install --upgrade neuron \n",
    "\t\n",
    "\techo \"\"\n",
    "\techo \"Cloning NetPyNE: git clone https://github.com/Neurosim-lab/netpyne.git\"\n",
    "\techo \"-----------------------------------------------------------------------------\"\n",
    "\tgit clone https://github.com/Neurosim-lab/netpyne.git \n",
    "\t\n",
    "\techo \"\"\n",
    "\techo \"Installing NetPyNE: python3 -m pip install -e netpyne\"\n",
    "\techo \"-----------------------------------------------------------------------------\"\n",
    "\tpython3 -m pip install -e netpyne \n",
    "\t\n",
    "\techo \"\"\n",
    "\techo \"Installing ipykernel for Jupyter: python3 -m pip install --upgrade ipykernel\"\n",
    "\techo \"-----------------------------------------------------------------------------\"\n",
    "\tpython3 -m pip install --upgrade ipykernel \n",
    "\t\n",
    "\techo \"\"\n",
    "\techo \"Installing Jupyter: python3 -m pip install --upgrade jupyter\"\n",
    "\techo \"-----------------------------------------------------------------------------\"\n",
    "\tpython3 -m pip install --upgrade jupyter\n",
    "\t\n",
    "\techo \"\"\n",
    "\techo \"Creating a kernel for Jupyter: ipython kernel install --user --name=env\"\n",
    "\techo \"-----------------------------------------------------------------------------\"\n",
    "\tipython kernel install --user --name=env\n",
    "\n",
    "\techo \"\"\n",
    "\techo \"=============================================================================\"\n",
    "\techo \"Your virtual environment is ready for use.\"\n",
    "\techo \"\"\n",
    "\techo \"To deactivate, execute: deactivate\"\n",
    "\techo \"To reactivate, execute: source env/bin/activate\"\n",
    "\techo \"=============================================================================\""
   ]
  },
  {
   "cell_type": "markdown",
   "id": "753d7078",
   "metadata": {},
   "source": [
    "## Copying this tutorial\n",
    "\n",
    "For convenience, let's copy this tutorial's directory up to the directory we're working in and then change into that directory.\n",
    "\n",
    "    pwd\n",
    "    cp -r netpyne/netpyne/tutorials/saving_loading_tut .\n",
    "    cd saving_loading_tut\n",
    "    pwd"
   ]
  },
  {
   "cell_type": "markdown",
   "id": "9f5095e6",
   "metadata": {},
   "source": [
    "## Normal saving\n",
    "\n",
    "Then we'll run a simulation with normal saving, using `saving_netParams.py` (which is used by all simulations in this tutorial), `saving_normal_cfg.py`, and `saving_normal_init.py`.\n",
    "\n",
    "Let's take a look at `saving_normal_init.py`, to see the standard way to run and save a simulation:\n",
    "\n",
    "    from netpyne import sim\n",
    "\n",
    "    cfg, netParams = sim.readCmdLineArgs(\n",
    "        simConfigDefault='saving_normal_cfg.py', \n",
    "        netParamsDefault='saving_netParams.py')\n",
    "    sim.initialize(simConfig=cfg, netParams=netParams)\n",
    "    sim.net.createPops()\n",
    "    sim.net.createCells()\n",
    "    sim.net.connectCells()\n",
    "    sim.net.addStims()\n",
    "    sim.setupRecording()\n",
    "    sim.runSim()\n",
    "    sim.gatherData()\n",
    "    sim.saveData()\n",
    "    sim.analysis.plotData()\n",
    "    \n",
    "We could run this on a single core using `python3 saving_normal_init.py` (if we just want the output) or `ipython -i saving_normal_init.py` (if we wanted to interact with the simulation afterwards.  But we will run this on multiple cores using the following command:"
   ]
  },
  {
   "cell_type": "code",
   "execution_count": null,
   "id": "cd832080",
   "metadata": {},
   "outputs": [],
   "source": [
    "!mpiexec -n 4 nrniv -python -mpi saving_normal_init.py"
   ]
  },
  {
   "cell_type": "markdown",
   "id": "0243a949",
   "metadata": {},
   "source": [
    "This command does not currently exit to the system prompt, so you will have to restart your kernel.  In the menu bar above, click on `Kernel`, then `Restart`, then `Restart`.\n",
    "\n",
    "The `whos` in the next cell should return `Interactive namespace is empty.` after the Kernel has been cleared."
   ]
  },
  {
   "cell_type": "code",
   "execution_count": null,
   "id": "92c322a2",
   "metadata": {},
   "outputs": [],
   "source": [
    "whos"
   ]
  },
  {
   "cell_type": "markdown",
   "id": "7034be7a",
   "metadata": {},
   "source": [
    "The simulation should have produced a directory called `saving_normal_data` with three analysis plots and a data file named `saving_normal_data.pkl`.  We are now going to load the simulation from this file and produce the same plots."
   ]
  },
  {
   "cell_type": "code",
   "execution_count": null,
   "id": "7480bef4",
   "metadata": {},
   "outputs": [],
   "source": [
    "from netpyne import sim\n",
    "sim.loadAll('saving_normal_data/saving_normal_data.pkl')"
   ]
  },
  {
   "cell_type": "code",
   "execution_count": null,
   "id": "a226751f",
   "metadata": {},
   "outputs": [],
   "source": [
    "sim.analysis.plotConn(saveFig='saving_normal_data/saving_normal_plot_conn_pop_strength_matrix_FROMFILE.png');\n",
    "sim.analysis.plotRaster(saveFig='saving_normal_data/saving_normal_raster_gid_FROMFILE.png');\n",
    "sim.analysis.plotTraces(saveFig='saving_normal_data/saving_normal_traces_FROMFILE.png');"
   ]
  },
  {
   "cell_type": "markdown",
   "id": "3acc9744",
   "metadata": {},
   "source": [
    "Compare the plots, they should be identical.  Congratulations!  You have run a simulation, saved the data, then loaded it later to perform more analysis.\n",
    "\n",
    "Now restart your kernel and check the `whos`."
   ]
  },
  {
   "cell_type": "code",
   "execution_count": null,
   "id": "33f1be06",
   "metadata": {},
   "outputs": [],
   "source": [
    "whos"
   ]
  },
  {
   "cell_type": "markdown",
   "id": "69c7844f",
   "metadata": {},
   "source": [
    "## Distributed Saving\n",
    "\n",
    "If you're running large sims, you may want to save the data from each node in a separate file, i.e. distributed saving.\n",
    "\n",
    "We'll run a simulation using distributed saving and loading using `saving_netParams.py` (which is used by all simulations in this tutorial), `saving_dist_cfg.py`, and `saving_dist_init.py`.\n",
    "\n",
    "The only changes to the cfg file are renaming the simulation:\n",
    "\n",
    "    cfg.simLabel = 'saving_dist'\n",
    "\n",
    "Our init file for distributed saving looks like this:\n",
    "\n",
    "from netpyne import sim\n",
    "\n",
    "    cfg, netParams = sim.readCmdLineArgs(\n",
    "        simConfigDefault='saving_dist_cfg.py', \n",
    "        netParamsDefault='saving_netParams.py')\n",
    "    sim.initialize(simConfig=cfg, netParams=netParams)\n",
    "    sim.net.createPops()\n",
    "    sim.net.createCells()\n",
    "    sim.net.connectCells()\n",
    "    sim.net.addStims()\n",
    "    sim.setupRecording()\n",
    "    sim.runSim()\n",
    "    #sim.gatherData()\n",
    "    #sim.saveData()\n",
    "    ##### new #####\n",
    "    sim.saveDataInNodes()\n",
    "    sim.gatherDataFromFiles()\n",
    "    ##### end new #####\n",
    "    sim.analysis.plotData()\n",
    "    \n",
    "We turned off `gatherData` and `saveData` and replaced those with `saveDataInNodes` and `gatherDataFromFiles`.\n",
    "\n",
    "Let's run the simulation now."
   ]
  },
  {
   "cell_type": "code",
   "execution_count": null,
   "id": "3073d951",
   "metadata": {},
   "outputs": [],
   "source": [
    "!mpiexec -n 4 nrniv -python -mpi saving_dist_init.py"
   ]
  },
  {
   "cell_type": "markdown",
   "id": "ff2df63a",
   "metadata": {},
   "source": [
    "That should have produced a directory `saving_dist_data` containing the same three analysis plots and a `node_data` directory containing a data file from each of the four nodes we used.\n",
    "\n",
    "Now restart your kernel so we can load the data from file analyze it again.\n",
    "\n",
    "The `whos` in the next cell should return `Interactive namespace is empty.`"
   ]
  },
  {
   "cell_type": "code",
   "execution_count": null,
   "id": "411111dc",
   "metadata": {},
   "outputs": [],
   "source": [
    "whos"
   ]
  },
  {
   "cell_type": "code",
   "execution_count": null,
   "id": "01f57db5",
   "metadata": {},
   "outputs": [],
   "source": [
    "from netpyne import sim\n",
    "sim.gatherDataFromFiles(simLabel='saving_dist')"
   ]
  },
  {
   "cell_type": "code",
   "execution_count": null,
   "id": "3e8e0c72",
   "metadata": {},
   "outputs": [],
   "source": [
    "sim.analysis.plotConn(saveFig='saving_dist_data/saving_dist_plot_conn_pop_strength_matrix_FROMFILE.png');\n",
    "sim.analysis.plotRaster(saveFig='saving_dist_data/saving_dist_raster_gid_FROMFILE.png');\n",
    "sim.analysis.plotTraces(saveFig='saving_dist_data/saving_dist_traces_FROMFILE.png');"
   ]
  },
  {
   "cell_type": "markdown",
   "id": "763074e9",
   "metadata": {},
   "source": [
    "Compare the plots, they should be identical except for the connectivity plot, which didn't retain the connectivity for the background inputs.\n",
    "\n",
    "Now restart your kernel and check the `whos`."
   ]
  },
  {
   "cell_type": "code",
   "execution_count": null,
   "id": "cf86ff42",
   "metadata": {},
   "outputs": [],
   "source": [
    "whos"
   ]
  },
  {
   "cell_type": "markdown",
   "id": "33c1e90a",
   "metadata": {},
   "source": [
    "## Interval Saving\n",
    "\n",
    "Perhaps you want to save data at intervals in case you have large, long simulations you're worried won't complete.\n",
    "\n",
    "We'll run a simulation using interval saving and loading using `saving_netParams.py` (which is used by all simulations in this tutorial), `saving_int_cfg.py`, and `saving_int_init.py`.\n",
    "\n",
    "The only changes to the cfg file are renaming the simulation:\n",
    "\n",
    "    cfg.simLabel = 'saving_int'\n",
    "\n",
    "and turning back on the saving of the data into one file:\n",
    "\n",
    "    cfg.savePickle = True\n",
    "\n",
    "Our init file for interval saving looks like this:\n",
    "\n",
    "from netpyne import sim\n",
    "\n",
    "    from netpyne import sim\n",
    "\n",
    "    cfg, netParams = sim.readCmdLineArgs(\n",
    "        simConfigDefault='saving_int_cfg.py', \n",
    "        netParamsDefault='saving_netParams.py')\n",
    "    sim.initialize(simConfig=cfg, netParams=netParams)\n",
    "    sim.net.createPops()\n",
    "    sim.net.createCells()\n",
    "    sim.net.connectCells()\n",
    "    sim.net.addStims()\n",
    "    sim.setupRecording()\n",
    "    #sim.runSim()\n",
    "    ##### new #####\n",
    "    sim.runSimIntervalSaving(1000)\n",
    "    ##### end new #####\n",
    "    sim.gatherData()\n",
    "    sim.saveData()\n",
    "    sim.analysis.plotData()\n",
    "    \n",
    "We turned off `runSim` and replaced it with `runSimIntervalSaving(1000)`, which will save the simulation every 1000 ms.\n",
    "\n",
    "Let's run the simulation now.  Remember you can run this without MPI using the command `python3 saving_int_init.py`."
   ]
  },
  {
   "cell_type": "code",
   "execution_count": null,
   "id": "bba3e2d9",
   "metadata": {},
   "outputs": [],
   "source": [
    "!mpiexec -n 4 nrniv -python -mpi saving_int_init.py"
   ]
  },
  {
   "cell_type": "markdown",
   "id": "099154e3",
   "metadata": {},
   "source": [
    "That should have produced a directory `saving_int_data` containing the data file and the same three analysis plots (from the completed simulation) and an `interval_data` directory containing a data file for each 1000 ms of our 10,000 ms simulation.\n",
    "\n",
    "Now restart your kernel so we can load interval data from file.\n",
    "\n",
    "The `whos` in the next cell should return `Interactive namespace is empty.`"
   ]
  },
  {
   "cell_type": "code",
   "execution_count": null,
   "id": "d3269aa6",
   "metadata": {},
   "outputs": [],
   "source": [
    "whos"
   ]
  },
  {
   "cell_type": "markdown",
   "id": "793191fc",
   "metadata": {},
   "source": [
    "Now, let's assume our simulation timed out, and the last interval save we got was at 10000 ms.  We can still analyze that partial data."
   ]
  },
  {
   "cell_type": "code",
   "execution_count": null,
   "id": "020c7809",
   "metadata": {},
   "outputs": [],
   "source": [
    "from netpyne import sim\n",
    "sim.loadAll('saving_int_data/interval_data/interval_10000.pkl', createNEURONObj=False)"
   ]
  },
  {
   "cell_type": "code",
   "execution_count": null,
   "id": "f68fab7a",
   "metadata": {},
   "outputs": [],
   "source": [
    "sim.analysis.plotConn(saveFig='saving_int_data/saving_int_plot_conn_pop_strength_matrix_INTERVAL.png');\n",
    "sim.analysis.plotRaster(saveFig='saving_int_data/saving_int_raster_gid_INTERVAL.png');\n",
    "sim.analysis.plotTraces(saveFig='saving_int_data/saving_int_traces_INTERVAL.png');"
   ]
  },
  {
   "cell_type": "markdown",
   "id": "8d868c66",
   "metadata": {},
   "source": [
    "The connectivity, traces and raster plots should be identical. You can see that we recovered partial data.\n",
    "\n",
    "Congratulations!  You have successfully saved, loaded, and analyzed simulation data in a variety of ways."
   ]
  }
 ],
 "metadata": {
  "kernelspec": {
   "display_name": "env",
   "language": "python",
   "name": "env"
  },
  "language_info": {
   "codemirror_mode": {
    "name": "ipython",
    "version": 3
   },
   "file_extension": ".py",
   "mimetype": "text/x-python",
   "name": "python",
   "nbconvert_exporter": "python",
   "pygments_lexer": "ipython3",
   "version": "3.8.2"
  }
 },
 "nbformat": 4,
 "nbformat_minor": 5
}
