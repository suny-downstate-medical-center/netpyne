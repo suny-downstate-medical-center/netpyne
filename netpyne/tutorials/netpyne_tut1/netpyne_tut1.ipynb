{
 "cells": [
  {
   "cell_type": "markdown",
   "metadata": {},
   "source": [
    "# Running NetPyNE in a Jupyter Notebook\n",
    "\n",
    "## Preliminaries\n",
    "\n",
    "Hopefully you already completed these preliminaries by following the instructions at https://github.com/Neurosim-lab/netpyne/blob/development/netpyne/tutorials/README.md.  We will now walk you through how we installed the NetPyNE tutorials.\n",
    "\n",
    "We don't want to affect your system in any way, so we will operate from a virtual environment. These preliminary steps must be completed before going through this tutorial. You can't complete the preliminary steps from within Jupyter because you can't enter a virtual environment in Jupyter, you have to switch to a kernel made from your virtual environment.\n",
    "\n",
    "First we will empty your path of all but essentials. Then we will create and activate a virtual environment. Then we will update pip and install some necessary packages in the virtual environment, and finally we will create a kernel from the virtual environment that can be used by Jupyter.  \n",
    "\n",
    "### Create and activate a virtual environment\n",
    "\n",
    "First, open a Terminal and switch to the directory where you downloaded this notebook:\n",
    "\n",
    "    cd netpyne_tuts\n",
    "\n",
    "Next, clear your PATH of all but the essentials. Don't worry, your normal PATH will return the next time you open a Terminal.\n",
    "\n",
    "    export PATH=/bin:/usr/bin\n",
    "    \n",
    "Next, create a virtual environment named \"env\":\n",
    "\n",
    "    python3 -m venv env\n",
    "    \n",
    "Check to see where you are currently running Python from:\n",
    "\n",
    "    which python3\n",
    "    \n",
    "Enter your new virtual environment:\n",
    "\n",
    "    source env/bin/activate\n",
    "    \n",
    "You should see in your prompt that you are in **env**.  \n",
    "\n",
    "Now see where you are running Python from:\n",
    "\n",
    "    which python3\n",
    "    \n",
    "It should come from inside your new virtual environment.  Any changes we make here will only exist in the **env** directory that was created here.  \n",
    "\n",
    "To exit your virtual environment, enter:\n",
    "\n",
    "    deactivate\n",
    "    \n",
    "Your prompt should reflect the change.  To get back in, enter:\n",
    "\n",
    "    source env/bin/activate\n",
    "    \n",
    "### Update pip and install packages\n",
    "\n",
    "We will now update pip and install some necessary packages in the virtual environment. From inside your virtual environment, enter:\n",
    "\n",
    "    python3 -m pip install --upgrade pip\n",
    "    python3 -m pip install --upgrade ipython\n",
    "    python3 -m pip install --upgrade ipykernel\n",
    "    python3 -m pip install --upgrade jupyter\n",
    "    \n",
    "### Make a Jupyter kernel out of this virtual environment\n",
    "\n",
    "Now we will create a kernel that can be used by Jupyter Notebooks.  Enter:\n",
    "\n",
    "    ipython kernel install --user --name=env\n",
    "\n",
    "### Install NEURON and NetPyNE\n",
    "\n",
    "    python3 -m pip install --upgrade neuron\n",
    "    python3 -m pip install --upgrade netpyne\n",
    "    \n",
    "### Launch this notebook in Jupyter Notebook\n",
    "\n",
    "Now we will launch Jupyter from within the virtual environment.  Enter:\n",
    "\n",
    "    jupyter notebook netpyne_tut1.ipynb\n",
    "    \n",
    "This should open a web browser with Jupyter running this notebook.  From the menu bar, click on **Kernel**, hover over **Change kernel** and select **env**.  We are now operating in the virtual environment (see **env** in the upper right instead of **Python 3**) and can begin the tutorial.\n",
    "\n",
    "## Single line command\n",
    "\n",
    "Entering the following single line command should perform all the previous steps and launch this tutorial in a Jupyter notebook in your web browser:\n",
    "\n",
    "    git clone https://github.com/Neurosim-lab/netpyne.git && cd netpyne/netpyne/tutorials/netpyne_tut1 && export PATH=/bin:/usr/bin && python3 -m venv env && source env/bin/activate && python3 -m pip install --upgrade pip && python3 -m pip install --upgrade ipython && python3 -m pip install --upgrade ipykernel && python3 -m pip install --upgrade jupyter && ipython kernel install --user --name=env && jupyter notebook netpyne_tut1.ipynb\n",
    "\n",
    "\n",
    "## To run this again in the future\n",
    "\n",
    "Be sure to enter your virtual environment before running Jupyter!\n",
    "\n",
    "    cd netpyne_tuts\n",
    "    source env/bin/activate\n",
    "    jupyter notebook netpyne_tut1.ipynb\n",
    "    \n",
    "And then make sure you are in the **env** kernel in Jupyter.\n",
    "\n"
   ]
  },
  {
   "cell_type": "markdown",
   "metadata": {},
   "source": [
    "# Tutorial 1 -- a simple network with one population\n",
    "\n",
    "Now we are ready to start NetPyNE Tutorial 1, which will create a simple network model we can simulate.  We will create a fairly simple network model of 40 pyramidal-like, two-compartment neurons with standard Hodgkin-Huxley dynamics in the somas and passive dynamics in the dendrites.  We will then connect the neurons randomly with a 10% probability of connection using a standard double-exponential synapse model.  Finally, we will add a current clamp stimulus to one cell to activate the network.  Then we will explore the model."
   ]
  },
  {
   "cell_type": "markdown",
   "metadata": {},
   "source": [
    "## Instantiate network parameters and simulation configuration\n",
    "\n",
    "You need two things to define a model/simulation in NetPyNE: 1) the parameters of the network and all its components (**netParams**) and 2) the configuration of the simulation (**simConfig**).  These requirements exist as objects in NetPyNE.  Let's instantiate them now."
   ]
  },
  {
   "cell_type": "code",
   "execution_count": null,
   "metadata": {
    "scrolled": true
   },
   "outputs": [],
   "source": [
    "from netpyne import specs, sim\n",
    "netParams = specs.NetParams()\n",
    "simConfig = specs.SimConfig()"
   ]
  },
  {
   "cell_type": "markdown",
   "metadata": {},
   "source": [
    "These NetPyNE objects come with a lot of defaults set which you can explore with tab completion, but we'll focus on that more later.\n",
    "\n",
    "We are going to plunge ahead and build our model: a simple network of 40 pyramidal-like two-compartment neurons with standard Hodgkin-Huxley dynamics in the soma and passive dynamics in the dendrite.  "
   ]
  },
  {
   "cell_type": "markdown",
   "metadata": {},
   "source": [
    "## Create a cell model\n",
    "\n",
    "First we will add a cell type to our model by adding a dictionary named **pyr** to the *Cell Parameters* dictionary (**cellParams**) in the *Network Parameters* dictionary (**netParams**).  We will then add an empty dictionary named **secs** to hold our compartments."
   ]
  },
  {
   "cell_type": "code",
   "execution_count": null,
   "metadata": {},
   "outputs": [],
   "source": [
    "netParams.cellParams['pyr'] = {}\n",
    "netParams.cellParams['pyr']['secs'] = {}"
   ]
  },
  {
   "cell_type": "markdown",
   "metadata": {},
   "source": [
    "### Specify the soma compartment properties\n",
    "\n",
    "Now we will define our **soma**, by adding a **geom** dictionary defining the geometry of the soma and a **mechs** dictionary defining the biophysical mechanics being added to the soma."
   ]
  },
  {
   "cell_type": "code",
   "execution_count": null,
   "metadata": {},
   "outputs": [],
   "source": [
    "netParams.cellParams['pyr']['secs']['soma'] = {}"
   ]
  },
  {
   "cell_type": "code",
   "execution_count": null,
   "metadata": {},
   "outputs": [],
   "source": [
    "netParams.cellParams['pyr']['secs']['soma']['geom'] = {\n",
    "    \"diam\": 12,\n",
    "    \"L\": 12,\n",
    "    \"Ra\": 100.0,\n",
    "    \"cm\": 1\n",
    "    }"
   ]
  },
  {
   "cell_type": "code",
   "execution_count": null,
   "metadata": {},
   "outputs": [],
   "source": [
    "netParams.cellParams['pyr']['secs']['soma']['mechs'] = {\"hh\": {\n",
    "    \"gnabar\": 0.12,\n",
    "    \"gkbar\": 0.036,\n",
    "    \"gl\": 0.0003,\n",
    "    \"el\": -54.3\n",
    "    }}"
   ]
  },
  {
   "cell_type": "markdown",
   "metadata": {},
   "source": [
    "The **hh** mechanism is builtin to NEURON, but you can see its *.mod* file here:\n",
    "https://github.com/neuronsimulator/nrn/blob/master/src/nrnoc/hh.mod\n",
    "\n",
    "It is the original Hodgkin-Huxley treatment for the set of sodium, potassium, and leakage channels found in the squid giant axon membrane."
   ]
  },
  {
   "cell_type": "markdown",
   "metadata": {},
   "source": [
    "### Specify the dendrite compartment properties\n",
    "\n",
    "Next will do the same thing for the dendrite compartment, but we will do it slightly differently.  We will first build up a **dend** dictionary and then add it to the cell model dictionary **pyr** when we are done."
   ]
  },
  {
   "cell_type": "code",
   "execution_count": null,
   "metadata": {},
   "outputs": [],
   "source": [
    "dend = {}"
   ]
  },
  {
   "cell_type": "code",
   "execution_count": null,
   "metadata": {},
   "outputs": [],
   "source": [
    "dend['geom'] = {\"diam\": 1.0,\n",
    "                \"L\": 200.0,\n",
    "                \"Ra\": 100.0,\n",
    "                \"cm\": 1,\n",
    "               }"
   ]
  },
  {
   "cell_type": "code",
   "execution_count": null,
   "metadata": {},
   "outputs": [],
   "source": [
    "dend['mechs'] = {\"pas\": \n",
    "                    {\"g\": 0.001,\n",
    "                     \"e\": -70}\n",
    "                }"
   ]
  },
  {
   "cell_type": "markdown",
   "metadata": {},
   "source": [
    "The **pas** mechanim is a simple leakage channel and is builtin to NEURON.  Its *.mod* file is available here:\n",
    "https://github.com/neuronsimulator/nrn/blob/master/src/nrnoc/passive.mod\n",
    "\n",
    "In order to connect the dendrite compartment to the soma compartment, we must add a **topol** dictionary to our **dend** dictionary."
   ]
  },
  {
   "cell_type": "code",
   "execution_count": null,
   "metadata": {},
   "outputs": [],
   "source": [
    "dend['topol'] = {\"parentSec\": \"soma\",\n",
    "                 \"parentX\": 1.0,\n",
    "                 \"childX\": 0,\n",
    "                }"
   ]
  },
  {
   "cell_type": "markdown",
   "metadata": {},
   "source": [
    "With our **dend** section dictionary complete, we must now add it to the **pyr** cell dictionary."
   ]
  },
  {
   "cell_type": "code",
   "execution_count": null,
   "metadata": {},
   "outputs": [],
   "source": [
    "netParams.cellParams['pyr']['secs']['dend'] = dend"
   ]
  },
  {
   "cell_type": "markdown",
   "metadata": {},
   "source": [
    "Our two-compartment cell model is now completely specified.  Our next step is to create a population of these cells."
   ]
  },
  {
   "cell_type": "markdown",
   "metadata": {},
   "source": [
    "## Create a population of cells\n",
    "\n",
    "NetPyNE uses *populations* of cells to specify connectivity.  In this tutorial, we will create just one population which we will call **E** (for excitatory).  It will be made of the **pyr** cells we just specified, and we want 40 of them."
   ]
  },
  {
   "cell_type": "code",
   "execution_count": null,
   "metadata": {},
   "outputs": [],
   "source": [
    "netParams.popParams['E'] = {\n",
    "    \"cellType\": \"pyr\",\n",
    "    \"numCells\": 40,\n",
    "}"
   ]
  },
  {
   "cell_type": "markdown",
   "metadata": {},
   "source": [
    "## Create a synaptic model\n",
    "\n",
    "We need a synaptic mechanism to connect our cells with.  We will create one called **exc** by adding a dictionary to the *synaptic mechanism parameters* dictionary (**synMechParams**).  The synapse *mod* used (**Exp2Syn**) is a simple double-exponential which is builtin to NEURON.  It's *.mod* file is available here:\n",
    "https://github.com/neuronsimulator/nrn/blob/master/src/nrnoc/exp2syn.mod"
   ]
  },
  {
   "cell_type": "code",
   "execution_count": null,
   "metadata": {},
   "outputs": [],
   "source": [
    "netParams.synMechParams['exc'] = {\n",
    "    \"mod\": \"Exp2Syn\",\n",
    "    \"tau1\": 0.1,\n",
    "    \"tau2\": 1.0,\n",
    "    \"e\": 0\n",
    "}"
   ]
  },
  {
   "cell_type": "markdown",
   "metadata": {},
   "source": [
    "## Connect the cells\n",
    "\n",
    "Now we will specify the connectivity in our model by adding an entry to the **connParams** dictionary.  We will call our connectivity rule **E->E** as it will define connectivity from our **E** population to our **E** population.\n",
    "\n",
    "We will use the *synMech* **exc**, which we defined above.  For this synaptic mechanism, a *weight* of about **0.005** is appropriate.  These cells will have a 10% probability of getting connected, and will be activated five milliseconds after an action potential occurs in the presynaptic cell.  Synapses will occur on the **dend** *section* at its very end (*location* **1.0**)"
   ]
  },
  {
   "cell_type": "code",
   "execution_count": null,
   "metadata": {},
   "outputs": [],
   "source": [
    "netParams.connParams['E->E'] = {\n",
    "    \"preConds\": {\"pop\": \"E\"},\n",
    "    \"postConds\": {\"pop\": \"E\"},\n",
    "    \"weight\": 0.005,\n",
    "    \"probability\": 0.1,\n",
    "    \"delay\": 5.0,\n",
    "    \"synMech\": \"exc\",\n",
    "    \"sec\": \"dend\",\n",
    "    \"loc\": 1.0,\n",
    "}"
   ]
  },
  {
   "cell_type": "markdown",
   "metadata": {},
   "source": [
    "## Set up the simulation configuration"
   ]
  },
  {
   "cell_type": "code",
   "execution_count": null,
   "metadata": {},
   "outputs": [],
   "source": [
    "simConfig.filename = \"netpyne_tut1\"\n",
    "simConfig.duration = 200.0\n",
    "simConfig.dt = 0.1"
   ]
  },
  {
   "cell_type": "markdown",
   "metadata": {},
   "source": [
    "We will record from from the first cell (**0**) and we will record the voltage in the middle of the soma and the end of the dendrite."
   ]
  },
  {
   "cell_type": "code",
   "execution_count": null,
   "metadata": {},
   "outputs": [],
   "source": [
    "simConfig.recordCells = [0]\n",
    "simConfig.recordTraces = {\n",
    "    \"V_soma\": {\n",
    "        \"sec\": \"soma\",\n",
    "        \"loc\": 0.5,\n",
    "        \"var\": \"v\",\n",
    "    },\n",
    "    \"V_dend\": {\n",
    "        \"sec\": \"dend\",\n",
    "        \"loc\": 1.0,\n",
    "        \"var\": \"v\",\n",
    "    }\n",
    "}"
   ]
  },
  {
   "cell_type": "markdown",
   "metadata": {},
   "source": [
    "Finally we will set up some plots to be automatically generated and saved."
   ]
  },
  {
   "cell_type": "code",
   "execution_count": null,
   "metadata": {},
   "outputs": [],
   "source": [
    "simConfig.analysis = {\n",
    "    \"plotTraces\": {\n",
    "        \"include\": [0],\n",
    "        \"saveFig\": True,\n",
    "    },\n",
    "    \"plotRaster\": {\n",
    "        \"saveFig\": True,\n",
    "    }\n",
    "}"
   ]
  },
  {
   "cell_type": "markdown",
   "metadata": {},
   "source": [
    "To see plots in the notebook, we first have to enter the following command."
   ]
  },
  {
   "cell_type": "code",
   "execution_count": null,
   "metadata": {},
   "outputs": [],
   "source": [
    "%matplotlib inline"
   ]
  },
  {
   "cell_type": "markdown",
   "metadata": {},
   "source": [
    "## Create, simulate, and analyze the model\n",
    "\n",
    "Use one simple command to create, simulate, and analyze the model."
   ]
  },
  {
   "cell_type": "code",
   "execution_count": null,
   "metadata": {},
   "outputs": [],
   "source": [
    "sim.createSimulateAnalyze(netParams=netParams, simConfig=simConfig)"
   ]
  },
  {
   "cell_type": "markdown",
   "metadata": {},
   "source": [
    "We can see that there was no spiking in the network, and thus the spike raster was not plotted.  But there should be one new file in your directory: **netpyne_tut1_traces.png**.  Take a look.  Not too interesting, the cell just settles into its resting membrane potential.\n",
    "\n",
    "Let's overlay the traces."
   ]
  },
  {
   "cell_type": "code",
   "execution_count": null,
   "metadata": {},
   "outputs": [],
   "source": [
    "fig, figData = sim.analysis.plotTraces(overlay=True)"
   ]
  },
  {
   "cell_type": "markdown",
   "metadata": {},
   "source": [
    "### Plot the 2D connectivity of the network"
   ]
  },
  {
   "cell_type": "markdown",
   "metadata": {},
   "source": [
    "Now we can take a look at the physical layout of our network model.  You can see all the options available for **plot2Dnet** here:\n",
    "http://netpyne.org/netpyne.analysis.network.html#netpyne.analysis.network.plot2Dnet"
   ]
  },
  {
   "cell_type": "code",
   "execution_count": null,
   "metadata": {},
   "outputs": [],
   "source": [
    "fig, figData = sim.analysis.plot2Dnet()"
   ]
  },
  {
   "cell_type": "markdown",
   "metadata": {},
   "source": [
    "### Plot the connectivity matrix\n",
    "\n",
    "You can see all the options available for **plotConn** here:\n",
    "http://netpyne.org/netpyne.analysis.network.html#netpyne.analysis.network.plotConn"
   ]
  },
  {
   "cell_type": "code",
   "execution_count": null,
   "metadata": {},
   "outputs": [],
   "source": [
    "fig, figData = sim.analysis.plotConn()"
   ]
  },
  {
   "cell_type": "markdown",
   "metadata": {},
   "source": [
    "Not very interesting with just one population, but we can also look at the cellular level connectivity."
   ]
  },
  {
   "cell_type": "code",
   "execution_count": null,
   "metadata": {},
   "outputs": [],
   "source": [
    "fig, figData = sim.analysis.plotConn(feature='weight', groupBy='cell')"
   ]
  },
  {
   "cell_type": "markdown",
   "metadata": {},
   "source": [
    "## Add a stimulation\n",
    "\n",
    "We'll need to kickstart this network to see some activity -- let's inject current into one of the cells.  First we need to add an entry to the *Stimulation Source Parameters* dictionary (**stimSourceParams**).  We'll call our stimulation **IClamp1**, and we'll use the standard NEURON *type*: **IClamp**.  The current injection will last for a *duration* of 20 ms, it will start at a *delay* of 5 ms, and it will have an *amplitude* of 0.1 nanoAmps. "
   ]
  },
  {
   "cell_type": "code",
   "execution_count": null,
   "metadata": {},
   "outputs": [],
   "source": [
    "netParams.stimSourceParams['IClamp1'] = {\n",
    "    \"type\": \"IClamp\",\n",
    "    \"dur\": 5,\n",
    "    \"del\": 20,\n",
    "    \"amp\": 0.1,\n",
    "}"
   ]
  },
  {
   "cell_type": "markdown",
   "metadata": {},
   "source": [
    "Now we need to add a target for our stimulation.  We do that by adding a dictionary to the *Stimulation Target Parameters* dictionary (**stimTargetParams**).  We'll call this connectivity rule **IClamp1->cell0**, because it will go from the source we just created (**IClamp1**) and the first cell in our population.  The stimulation (current injection in this case) will occur in our **dend** *section* at the very tip (*location* of **1.0**)."
   ]
  },
  {
   "cell_type": "code",
   "execution_count": null,
   "metadata": {},
   "outputs": [],
   "source": [
    "netParams.stimTargetParams['IClamp1->cell0'] = {\n",
    "    \"source\": \"IClamp1\",\n",
    "    \"conds\": {\"cellList\": [0]},\n",
    "    \"sec\": \"dend\",\n",
    "    \"loc\": 1.0,\n",
    "}"
   ]
  },
  {
   "cell_type": "markdown",
   "metadata": {},
   "source": [
    "### Create, simulate, and analyze the model\n"
   ]
  },
  {
   "cell_type": "code",
   "execution_count": null,
   "metadata": {},
   "outputs": [],
   "source": [
    "sim.createSimulateAnalyze(netParams=netParams, simConfig=simConfig)"
   ]
  },
  {
   "cell_type": "markdown",
   "metadata": {},
   "source": [
    "Now we see spiking in the network, and the raster plot appears.  Let's improve the plots a little bit."
   ]
  },
  {
   "cell_type": "code",
   "execution_count": null,
   "metadata": {},
   "outputs": [],
   "source": [
    "fig, figData = sim.analysis.plotTraces(overlay=True)"
   ]
  },
  {
   "cell_type": "code",
   "execution_count": null,
   "metadata": {},
   "outputs": [],
   "source": [
    "fig, figData = sim.analysis.plotRaster(marker='o', markerSize=50)"
   ]
  },
  {
   "cell_type": "markdown",
   "metadata": {},
   "source": [
    "You can see all of the options available in **plotTraces** here:\n",
    "http://netpyne.org/netpyne.analysis.traces.html#netpyne.analysis.traces.plotTraces\n",
    "\n",
    "You can see all of the options available in **plotRaster** here:\n",
    "http://netpyne.org/netpyne.analysis.spikes.html#netpyne.analysis.spikes.plotRaster"
   ]
  },
  {
   "cell_type": "markdown",
   "metadata": {},
   "source": [
    "### Plot the connectivity matrix"
   ]
  },
  {
   "cell_type": "code",
   "execution_count": null,
   "metadata": {},
   "outputs": [],
   "source": [
    "fig, figData = sim.analysis.plotConn()"
   ]
  },
  {
   "cell_type": "markdown",
   "metadata": {},
   "source": [
    "## Record and plot a variety of traces\n",
    "\n",
    "Now let's explore the model by recording and plotting a variety of traces.  First let's clear our **recordTraces** dictionary and turn off the automatic raster plot."
   ]
  },
  {
   "cell_type": "code",
   "execution_count": null,
   "metadata": {},
   "outputs": [],
   "source": [
    "simConfig.recordTraces = {}\n",
    "simConfig.analysis['plotRaster'] = False"
   ]
  },
  {
   "cell_type": "markdown",
   "metadata": {},
   "source": [
    "### Record and plot the somatic conductances\n",
    "\n",
    "Let's record and plot the somatic conductances.  We need to take a look at the **hh** mod file to see what the variables are called.  The file is available here: https://github.com/neuronsimulator/nrn/blob/master/src/nrnoc/hh.mod\n",
    "\n",
    "We can see that the conductances are called *gna*, *gk*, and *gl*.  Let's set up recording for these conductances in the middle of the soma."
   ]
  },
  {
   "cell_type": "code",
   "execution_count": null,
   "metadata": {},
   "outputs": [],
   "source": [
    "simConfig.recordTraces['gNa'] = {'sec': 'soma', 'loc': 0.5, 'mech': 'hh', 'var': 'gna'}\n",
    "simConfig.recordTraces['gK'] = {'sec': 'soma', 'loc': 0.5, 'mech': 'hh', 'var': 'gk'}\n",
    "simConfig.recordTraces['gL'] = {'sec': 'soma', 'loc': 0.5, 'mech': 'hh', 'var': 'gl'}"
   ]
  },
  {
   "cell_type": "markdown",
   "metadata": {},
   "source": [
    "Then we can re-run the simulation."
   ]
  },
  {
   "cell_type": "code",
   "execution_count": null,
   "metadata": {},
   "outputs": [],
   "source": [
    "sim.createSimulateAnalyze(netParams=netParams, simConfig=simConfig)"
   ]
  },
  {
   "cell_type": "markdown",
   "metadata": {},
   "source": [
    "Let's zoom in on one spike and overylay the traces."
   ]
  },
  {
   "cell_type": "code",
   "execution_count": null,
   "metadata": {},
   "outputs": [],
   "source": [
    "fig, figData = sim.analysis.plotTraces(timeRange=[90, 110], overlay=True)"
   ]
  },
  {
   "cell_type": "markdown",
   "metadata": {},
   "source": [
    "### Record from synapses"
   ]
  },
  {
   "cell_type": "markdown",
   "metadata": {},
   "source": [
    "Our synapses are set up to use **Exp2Syn**, which is builtin to NEURON.  Its mod file is available here: https://github.com/neuronsimulator/nrn/blob/master/src/nrnoc/exp2syn.mod\n",
    "\n",
    "Looking in the file, we can see that its current variable is called **i**.  Let's record that and the voltage in the dendrite."
   ]
  },
  {
   "cell_type": "code",
   "execution_count": null,
   "metadata": {},
   "outputs": [],
   "source": [
    "simConfig.recordTraces = {}\n",
    "simConfig.recordTraces['iSyn0'] = {'sec': 'dend', 'loc': 1.0, 'synMech': 'exc', 'var': 'i'}\n",
    "simConfig.recordTraces['V_dend'] = {'sec': 'dend', 'loc': 1.0, 'var': 'v'}"
   ]
  },
  {
   "cell_type": "code",
   "execution_count": null,
   "metadata": {},
   "outputs": [],
   "source": [
    "sim.createSimulateAnalyze(netParams=netParams, simConfig=simConfig)"
   ]
  },
  {
   "cell_type": "markdown",
   "metadata": {},
   "source": [
    "That's the first synapse created in that location, but there are likely multiple synapses.  Let's plot all the synaptic currents entering cell 0.  First we need to see what they are.  The network is defined in **sim.net**.  Type in *sim.net.* and then push *Tab* to see what's available.\n",
    "\n",
    "The data for cell 0 is in **sim.net.allCells[0]**."
   ]
  },
  {
   "cell_type": "code",
   "execution_count": null,
   "metadata": {},
   "outputs": [],
   "source": [
    "sim.net.allCells[0].keys()"
   ]
  },
  {
   "cell_type": "markdown",
   "metadata": {},
   "source": [
    "The connections coming onto the cell are in **conns**."
   ]
  },
  {
   "cell_type": "code",
   "execution_count": null,
   "metadata": {},
   "outputs": [],
   "source": [
    "sim.net.allCells[0]['conns']"
   ]
  },
  {
   "cell_type": "markdown",
   "metadata": {},
   "source": [
    "So we want to record six synaptic currents.  Lets do that in a *for loop* at the same time creating a dictionary to hold the synaptic trace names as keys (and later the trace arrays as values)."
   ]
  },
  {
   "cell_type": "code",
   "execution_count": null,
   "metadata": {},
   "outputs": [],
   "source": [
    "simConfig.recordTraces = {}\n",
    "simConfig.recordTraces['V_soma'] = {'sec': 'soma', 'loc': 0.5, 'var': 'v'}\n",
    "simConfig.recordTraces['V_dend'] = {'sec': 'dend', 'loc': 1.0, 'var': 'v'}\n",
    "\n",
    "syn_plots = {}\n",
    "for index, presyn in enumerate(sim.net.allCells[0]['conns']):    \n",
    "    trace_name = 'i_syn_' + str(presyn['preGid'])\n",
    "    syn_plots[trace_name] = None \n",
    "    simConfig.recordTraces[trace_name] = {'sec': 'dend', 'loc': 1.0, 'synMech': 'exc', 'var': 'i', 'index': index}"
   ]
  },
  {
   "cell_type": "code",
   "execution_count": null,
   "metadata": {},
   "outputs": [],
   "source": [
    "print(simConfig.recordTraces)"
   ]
  },
  {
   "cell_type": "code",
   "execution_count": null,
   "metadata": {},
   "outputs": [],
   "source": [
    "sim.createSimulateAnalyze(netParams=netParams, simConfig=simConfig)"
   ]
  },
  {
   "cell_type": "markdown",
   "metadata": {},
   "source": [
    "## Extracting recorded data\n",
    "\n",
    "Let's make our synaptic currents plot nicer.  We'll make a figure with two plots, the top one will be the somatic and dendritic voltage and the bottom plot will be all of the synaptic currents overlaid.\n",
    "\n",
    "First we'll have to extract the data.  Simulation data gets stored in the dictionary **sim.allSimData**."
   ]
  },
  {
   "cell_type": "code",
   "execution_count": null,
   "metadata": {},
   "outputs": [],
   "source": [
    "sim.allSimData.keys()"
   ]
  },
  {
   "cell_type": "markdown",
   "metadata": {},
   "source": [
    "**spkt** is an array of the times of all spikes in the network.  **spkid** is an array of the universal index (GID) of the cell spiking.   **t** is an array of the time for traces.  Our traces appear as we named them, and each is a dictionary with its key being **cell_GID** and its value being the array of the trace."
   ]
  },
  {
   "cell_type": "code",
   "execution_count": null,
   "metadata": {},
   "outputs": [],
   "source": [
    "sim.allSimData.V_soma.keys()\n"
   ]
  },
  {
   "cell_type": "markdown",
   "metadata": {},
   "source": [
    "So let's extract our data."
   ]
  },
  {
   "cell_type": "code",
   "execution_count": null,
   "metadata": {},
   "outputs": [],
   "source": [
    "time = sim.allSimData['t']\n",
    "v_soma = sim.allSimData['V_soma']['cell_0']\n",
    "v_dend = sim.allSimData['V_dend']['cell_0']\n",
    "\n",
    "for syn_plot in syn_plots:\n",
    "    syn_plots[syn_plot] = sim.allSimData[syn_plot]['cell_0']"
   ]
  },
  {
   "cell_type": "markdown",
   "metadata": {},
   "source": [
    "And now we can make our custom plot."
   ]
  },
  {
   "cell_type": "code",
   "execution_count": null,
   "metadata": {},
   "outputs": [],
   "source": [
    "import matplotlib.pyplot as plt\n",
    "fig = plt.figure()\n",
    "\n",
    "plt.subplot(211)\n",
    "plt.plot(time, v_soma, label='v_soma')\n",
    "plt.plot(time, v_dend, label='v_dend')\n",
    "plt.legend()\n",
    "plt.xlabel('Time (ms)')\n",
    "plt.ylabel('Membrane potential (mV)')\n",
    "\n",
    "plt.subplot(212)\n",
    "for syn_plot in syn_plots:\n",
    "    plt.plot(time, syn_plots[syn_plot], label=syn_plot)\n",
    "plt.legend()\n",
    "plt.xlabel('Time (ms)')\n",
    "plt.ylabel('Synaptic current (nA)')\n",
    "\n",
    "plt.savefig('syn_currents.jpg', dpi=600)"
   ]
  },
  {
   "cell_type": "markdown",
   "metadata": {},
   "source": [
    "Cleaning up our figure (reducing font size, etc.) will be left as an exercise.  See the **matplotlib** users guide here:\n",
    "https://matplotlib.org/users/index.html\n",
    "\n",
    "Now we will put all of this together into a single file.  But first, let's clear our workspace with the following command."
   ]
  },
  {
   "cell_type": "code",
   "execution_count": null,
   "metadata": {},
   "outputs": [],
   "source": [
    "%reset"
   ]
  },
  {
   "cell_type": "markdown",
   "metadata": {},
   "source": [
    "## This tutorial in a single Python file"
   ]
  },
  {
   "cell_type": "code",
   "execution_count": null,
   "metadata": {},
   "outputs": [],
   "source": [
    "from netpyne import specs, sim\n",
    "netParams = specs.NetParams()\n",
    "simConfig = specs.SimConfig()\n",
    "\n",
    "# Create a cell type\n",
    "# ------------------\n",
    "\n",
    "netParams.cellParams['pyr'] = {}\n",
    "netParams.cellParams['pyr']['secs'] = {}\n",
    "\n",
    "# Add a soma section\n",
    "netParams.cellParams['pyr']['secs']['soma'] = {}\n",
    "netParams.cellParams['pyr']['secs']['soma']['geom'] = {\n",
    "    \"diam\": 12,\n",
    "    \"L\": 12,\n",
    "    \"Ra\": 100.0,\n",
    "    \"cm\": 1\n",
    "    }\n",
    "\n",
    "# Add hh mechanism to soma\n",
    "netParams.cellParams['pyr']['secs']['soma']['mechs'] = {\"hh\": {\n",
    "    \"gnabar\": 0.12,\n",
    "    \"gkbar\": 0.036,\n",
    "    \"gl\": 0.0003,\n",
    "    \"el\": -54.3\n",
    "    }}\n",
    "\n",
    "# Add a dendrite section\n",
    "dend = {}\n",
    "dend['geom'] = {\"diam\": 1.0,\n",
    "                \"L\": 200.0,\n",
    "                \"Ra\": 100.0,\n",
    "                \"cm\": 1,\n",
    "               }\n",
    "\n",
    "# Add pas mechanism to dendrite\n",
    "dend['mechs'] = {\"pas\": \n",
    "                    {\"g\": 0.001,\n",
    "                     \"e\": -70}\n",
    "                }\n",
    "\n",
    "# Connect the dendrite to the soma\n",
    "dend['topol'] = {\"parentSec\": \"soma\",\n",
    "                 \"parentX\": 1.0,\n",
    "                 \"childX\": 0,\n",
    "                }\n",
    "\n",
    "# Add the dend dictionary to the cell parameters dictionary\n",
    "netParams.cellParams['pyr']['secs']['dend'] = dend\n",
    "\n",
    "# Create a population of these cells\n",
    "# ----------------------------------\n",
    "netParams.popParams['E'] = {\n",
    "    \"cellType\": \"pyr\",\n",
    "    \"numCells\": 40,\n",
    "}\n",
    "\n",
    "# Add Exp2Syn synaptic mechanism\n",
    "# ------------------------------\n",
    "netParams.synMechParams['exc'] = {\n",
    "    \"mod\": \"Exp2Syn\",\n",
    "    \"tau1\": 0.1,\n",
    "    \"tau2\": 1.0,\n",
    "    \"e\": 0\n",
    "}\n",
    "\n",
    "# Define the connectivity\n",
    "# -----------------------\n",
    "netParams.connParams['E->E'] = {\n",
    "    \"preConds\": {\"pop\": \"E\"},\n",
    "    \"postConds\": {\"pop\": \"E\"},\n",
    "    \"weight\": 0.005,\n",
    "    \"probability\": 0.1,\n",
    "    \"delay\": 5.0,\n",
    "    \"synMech\": \"exc\",\n",
    "    \"sec\": \"dend\",\n",
    "    \"loc\": 1.0,\n",
    "}\n",
    "\n",
    "# Add a stimulation\n",
    "# -----------------\n",
    "netParams.stimSourceParams['IClamp1'] = {\n",
    "    \"type\": \"IClamp\",\n",
    "    \"dur\": 5,\n",
    "    \"del\": 20,\n",
    "    \"amp\": 0.1,\n",
    "}\n",
    "\n",
    "# Connect the stimulation\n",
    "# -----------------------\n",
    "netParams.stimTargetParams['IClamp1->cell0'] = {\n",
    "    \"source\": \"IClamp1\",\n",
    "    \"conds\": {\"cellList\": [0]},\n",
    "    \"sec\": \"dend\",\n",
    "    \"loc\": 1.0,\n",
    "}\n",
    "\n",
    "# Set up the simulation configuration\n",
    "# -----------------------------------\n",
    "\n",
    "simConfig.filename = \"netpyne_tut1\"\n",
    "simConfig.duration = 200.0\n",
    "simConfig.dt = 0.1\n",
    "\n",
    "# Record from cell 0\n",
    "simConfig.recordCells = [0]\n",
    "\n",
    "# Record the voltage at the soma and the dendrite\n",
    "simConfig.recordTraces = {\n",
    "    \"V_soma\": {\n",
    "        \"sec\": \"soma\",\n",
    "        \"loc\": 0.5,\n",
    "        \"var\": \"v\",\n",
    "    },\n",
    "    \"V_dend\": {\n",
    "        \"sec\": \"dend\",\n",
    "        \"loc\": 1.0,\n",
    "        \"var\": \"v\",\n",
    "    }\n",
    "}\n",
    "\n",
    "# Record somatic conductances\n",
    "#simConfig.recordTraces['gNa'] = {'sec': 'soma', 'loc': 0.5, 'mech': 'hh', 'var': 'gna'}\n",
    "#simConfig.recordTraces['gK'] = {'sec': 'soma', 'loc': 0.5, 'mech': 'hh', 'var': 'gk'}\n",
    "#simConfig.recordTraces['gL'] = {'sec': 'soma', 'loc': 0.5, 'mech': 'hh', 'var': 'gl'}\n",
    "\n",
    "# Automatically generate some figures\n",
    "simConfig.analysis = {\n",
    "    \"plotTraces\": {\n",
    "        \"include\": [0],\n",
    "        \"saveFig\": True,\n",
    "        \"overlay\": True,\n",
    "    },\n",
    "    \"plotRaster\": {\n",
    "        \"saveFig\": True,\n",
    "        \"marker\": \"o\",\n",
    "        \"markerSize\": 50,\n",
    "    },\n",
    "    \"plotConn\": {\n",
    "        \"saveFig\": True,\n",
    "        \"feature\": \"weight\",\n",
    "        \"groupby\": \"cell\",\n",
    "        \"markerSize\": 50,\n",
    "    },\n",
    "    \"plot2Dnet\": {\n",
    "        \"saveFig\": True,\n",
    "    },\n",
    "}\n",
    "\n",
    "\n",
    "# Create, simulate, and analyze the model\n",
    "# ---------------------------------------\n",
    "sim.createSimulateAnalyze(netParams=netParams, simConfig=simConfig)\n",
    "\n",
    "\n",
    "# Set up the recording for the synaptic current plots\n",
    "syn_plots = {}\n",
    "for index, presyn in enumerate(sim.net.allCells[0]['conns']):    \n",
    "    trace_name = 'i_syn_' + str(presyn['preGid'])\n",
    "    syn_plots[trace_name] = None \n",
    "    simConfig.recordTraces[trace_name] = {'sec': 'dend', 'loc': 1.0, 'synMech': 'exc', 'var': 'i', 'index': index}\n",
    "\n",
    "    \n",
    "# Create, simulate, and analyze the model\n",
    "# ---------------------------------------\n",
    "sim.createSimulateAnalyze(netParams=netParams, simConfig=simConfig)\n",
    "    \n",
    "\n",
    "# Extract the data\n",
    "# ----------------\n",
    "time = sim.allSimData['t']\n",
    "v_soma = sim.allSimData['V_soma']['cell_0']\n",
    "v_dend = sim.allSimData['V_dend']['cell_0']\n",
    "\n",
    "for syn_plot in syn_plots:\n",
    "    syn_plots[syn_plot] = sim.allSimData[syn_plot]['cell_0']\n",
    "\n",
    "    \n",
    "# Plot our custom figure\n",
    "# ----------------------\n",
    "import matplotlib.pyplot as plt\n",
    "fig = plt.figure()\n",
    "\n",
    "plt.subplot(211)\n",
    "plt.plot(time, v_soma, label='v_soma')\n",
    "plt.plot(time, v_dend, label='v_dend')\n",
    "plt.legend()\n",
    "plt.xlabel('Time (ms)')\n",
    "plt.ylabel('Membrane potential (mV)')\n",
    "\n",
    "plt.subplot(212)\n",
    "for syn_plot in syn_plots:\n",
    "    plt.plot(time, syn_plots[syn_plot], label=syn_plot)\n",
    "plt.legend()\n",
    "plt.xlabel('Time (ms)')\n",
    "plt.ylabel('Synaptic current (nA)')\n",
    "\n",
    "plt.savefig('syn_currents.jpg', dpi=600)"
   ]
  }
 ],
 "metadata": {
  "kernelspec": {
   "display_name": "env",
   "language": "python",
   "name": "env"
  },
  "language_info": {
   "codemirror_mode": {
    "name": "ipython",
    "version": 3
   },
   "file_extension": ".py",
   "mimetype": "text/x-python",
   "name": "python",
   "nbconvert_exporter": "python",
   "pygments_lexer": "ipython3",
   "version": "3.8.2"
  }
 },
 "nbformat": 4,
 "nbformat_minor": 4
}
