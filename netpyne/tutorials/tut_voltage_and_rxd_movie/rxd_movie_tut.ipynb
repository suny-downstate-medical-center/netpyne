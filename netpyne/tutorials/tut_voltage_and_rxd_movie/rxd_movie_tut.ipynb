{
 "cells": [
  {
   "cell_type": "markdown",
   "id": "c55e48b1",
   "metadata": {},
   "source": [
    "# Making a movie of reaction-diffusion concentrations\n",
    "\n",
    "We recommend creating and using a virtual environment for NetPyNE tutorials.  To do so, enter the following commands into your terminal:\n",
    "\n",
    "    mkdir netpyne_tuts\n",
    "    cd netpyne_tuts\n",
    "    python3 -m venv env\n",
    "    source env/bin/activate\n",
    "    python3 -m pip install --upgrade pip setuptools wheel \n",
    "    python3 -m pip install --upgrade ipython ipykernel jupyter\n",
    "    python3 -m pip install --upgrade neuron\n",
    "    git clone https://github.com/Neurosim-lab/netpyne.git\n",
    "    python3 -m pip install -e netpyne\n",
    "    ipython kernel install --user --name=env\n",
    "    \n",
    "For this tutorial, you will also need to install `natsort` and `imageio`.\n",
    "\n",
    "    python3 -m pip install natsort imageio\n",
    "\n",
    "Then you can copy the example directory we will be using into `netpyne_tuts`, copy this notebook tutorial into it, and compile the mod files.\n",
    "    \n",
    "    cp -r netpyne/examples/rxd_net .\n",
    "    cp netpyne/netpyne/tutorials/rxd_movie_tut/rxd_movie_tut.ipynb rxd_net\n",
    "    cd rxd_net\n",
    "    nrnivmodl mod\n",
    "    \n",
    "Finally, you can launch this tutorial in a Jupyter notebook.\n",
    "\n",
    "    jupyter notebook rxd_movie_tut.ipynb"
   ]
  },
  {
   "cell_type": "markdown",
   "id": "bb0e0e19",
   "metadata": {},
   "source": [
    "Note that the network parameters are defined in `netParams.py`, the simulation configuration is specified in `cfg.py` and the steps to actually run the simulation are in `init.py`.\n",
    "\n",
    "From the terminal, you could run this simulation with the command `python3 init.py`.  Or, if you have MPI properly installed, you could run the sim on four cores with the command `mpiexec -np 4 nrniv -python -mpi init.py`.\n",
    "\n",
    "To run the simulation from this notebook, you would execute `%run init.py` or `!mpiexec -np 4 nrniv -python -mpi init.py`.\n",
    "\n",
    "However, we need to modify the simulation run so that a movie frame (figure) is generated at specified times.  You can modify `init.py` to do this, but here we will do it interactively.\n",
    "\n",
    "First, lets look at what's in `init.py`:\n",
    "\n",
    "    from netpyne import sim\n",
    "    from netParams import netParams\n",
    "    from cfg import cfg\n",
    "\n",
    "    sim.initialize(netParams, cfg)\n",
    "    sim.net.createPops()\n",
    "    sim.net.createCells()\n",
    "    sim.net.connectCells()\n",
    "    sim.net.addStims()\n",
    "    sim.net.addRxD()\n",
    "    sim.setupRecording()\n",
    "    sim.simulate()\n",
    "    sim.analyze()\n",
    "\n",
    "We want to replace `sim.simulate()` with `sim.runSimWithIntervalFunc()`, which pauses at a set interval and executes the specified function.  See more details on `runSimWithIntervalFunc` here: http://netpyne.org/netpyne.sim.run.html#netpyne.sim.run.runSimWithIntervalFunc.\n",
    "\n",
    "The function `runSimWithIntervalFunc` requires two arguments: the time interval at which to execute the function (`interval`) and the function to be executed (`func`).  It also has two optional arguments: a limited time range over which to execute the function (`timeRange`) and a dictionary of arguments to feed into the function to be executed (`funcArgs`).\n",
    "\n",
    "For this example, which runs for 1000 ms, we will make a short movie with 10 frames by setting `interval=100`.  We will use the function `sim.analysis.plotRxDConcentration` and we want to plot the calcium concentration in the extracellular space.  We also need to set `saveFig` to `'movie'`, and set the colorbar limits (so they stay the same in each movie frame).  In order to feed these arguments into the plotting function at each time step, we will create a dictionary:"
   ]
  },
  {
   "cell_type": "code",
   "execution_count": null,
   "id": "d2744d89",
   "metadata": {},
   "outputs": [],
   "source": [
    "plotArgs = {\n",
    "    'speciesLabel': 'ca',\n",
    "    'regionLabel' : 'ecs', \n",
    "    'saveFig'     : 'movie',\n",
    "    'showFig'     : False,\n",
    "    'clim'        : [1.9997, 2.000],\n",
    "}"
   ]
  },
  {
   "cell_type": "markdown",
   "id": "cf012a78",
   "metadata": {},
   "source": [
    "At this point, we can replace `sim.simulate()` in our `init.py` file with `sim.runSimWithIntervalFunc(100.0, sim.analysis.plotRxDConcentration, timeRange=None, funcArgs=plotArgs)`.\n",
    "\n",
    "Then we can run the simulation."
   ]
  },
  {
   "cell_type": "code",
   "execution_count": null,
   "id": "9e5d5b1d",
   "metadata": {},
   "outputs": [],
   "source": [
    "from netpyne import sim\n",
    "from netParams import netParams\n",
    "from cfg import cfg\n",
    "\n",
    "sim.initialize(netParams, cfg)\n",
    "sim.net.createPops()\n",
    "sim.net.createCells()\n",
    "sim.net.connectCells()\n",
    "sim.net.addStims()\n",
    "sim.net.addRxD()\n",
    "sim.setupRecording()\n",
    "#sim.simulate()\n",
    "sim.runSimWithIntervalFunc(100.0, sim.analysis.plotRxDConcentration, timeRange=None, funcArgs=plotArgs)\n",
    "sim.analyze()"
   ]
  },
  {
   "cell_type": "markdown",
   "id": "de70cead",
   "metadata": {},
   "source": [
    "This should run the simulation, pausing every 100 ms to create a reaction-diffusion concentration plot.\n",
    "\n",
    "At this point, we can create a movie (an animated gif) from our frames."
   ]
  },
  {
   "cell_type": "code",
   "execution_count": null,
   "id": "018b0494",
   "metadata": {},
   "outputs": [],
   "source": [
    "import os\n",
    "import natsort\n",
    "import imageio\n",
    "\n",
    "images = []\n",
    "filenames = natsort.natsorted([file for file in os.listdir() if 'movie' in file and file.endswith('.png')])\n",
    "for filename in filenames:\n",
    "    images.append(imageio.imread(filename))\n",
    "imageio.mimsave('rxd_conc_movie.gif', images)"
   ]
  },
  {
   "cell_type": "markdown",
   "id": "b9297bcd",
   "metadata": {},
   "source": [
    "Your movie should show up below (you may have to edit and then re-execute the following cell first):\n",
    "\n",
    "<img src=\"rxd_conc_movie.gif\">"
   ]
  },
  {
   "cell_type": "markdown",
   "id": "fb0a9231",
   "metadata": {},
   "source": [
    "Congratulations!  You have performed a reaction-diffusion simulation and created a movie of an ionic concentration!\n",
    "\n",
    "As an exercise, to generate a movie of membrane voltages in the cells of the network, you can create a dictionary of the desired arguments for `plotShape`:\n",
    "\n",
    "    shapePlotArgs = {\n",
    "        'includePre' : ['all'], \n",
    "        'includePost': ['all'], \n",
    "        'cvar'       : 'voltage', \n",
    "        'clim'       : [-70, -20], \n",
    "        'saveFig'    : 'movie', \n",
    "        'showFig'    : False,\n",
    "    }\n",
    "\n",
    "And then replace `sim.simulate()` with:\n",
    "\n",
    "    sim.runSimWithIntervalFunc(10.0, sim.analysis.plotShape, timeRange=[0, 200], funcArgs=shapePlotArgs)"
   ]
  }
 ],
 "metadata": {
  "kernelspec": {
   "display_name": "env",
   "language": "python",
   "name": "env"
  },
  "language_info": {
   "codemirror_mode": {
    "name": "ipython",
    "version": 3
   },
   "file_extension": ".py",
   "mimetype": "text/x-python",
   "name": "python",
   "nbconvert_exporter": "python",
   "pygments_lexer": "ipython3",
   "version": "3.8.2"
  }
 },
 "nbformat": 4,
 "nbformat_minor": 5
}
