{
 "cells": [
  {
   "cell_type": "markdown",
   "id": "9e962496",
   "metadata": {},
   "source": [
    "# Making a movie of voltage activity\n",
    "\n",
    "We'll create a simple network made up of one imported morphology.\n",
    "\n",
    "First we need to download the morphology."
   ]
  },
  {
   "cell_type": "code",
   "execution_count": null,
   "id": "63a46700",
   "metadata": {},
   "outputs": [],
   "source": [
    "import urllib.request\n",
    "urllib.request.urlretrieve('https://raw.githubusercontent.com/Neurosim-lab/netpyne/development/doc/source/code/BS0284.swc', 'BS0284.swc')"
   ]
  },
  {
   "cell_type": "markdown",
   "id": "6a9270d3",
   "metadata": {},
   "source": [
    "Then we need to import the morphology."
   ]
  },
  {
   "cell_type": "code",
   "execution_count": null,
   "id": "b952352c",
   "metadata": {},
   "outputs": [],
   "source": [
    "from netpyne import specs, sim\n",
    "%matplotlib\n",
    "\n",
    "netParams = specs.NetParams()\n",
    "\n",
    "cellRule = netParams.importCellParams(\n",
    "    label='swc_cell', \n",
    "    fileName='BS0284.swc', \n",
    "    cellName='BS0284',\n",
    "    )"
   ]
  },
  {
   "cell_type": "markdown",
   "id": "06d2b7c9",
   "metadata": {},
   "source": [
    "For convenience, we'll rename the first soma section in the morphology from `soma_0` to `soma`."
   ]
  },
  {
   "cell_type": "code",
   "execution_count": null,
   "id": "de61e65b",
   "metadata": {},
   "outputs": [],
   "source": [
    "netParams.renameCellParamsSec('swc_cell', 'soma_0', 'soma')"
   ]
  },
  {
   "cell_type": "markdown",
   "id": "acfa2cf3",
   "metadata": {},
   "source": [
    "Next we'll add Hodgkin-Huxley mechanisms to the soma and a passive leak mechanism everywhere else."
   ]
  },
  {
   "cell_type": "code",
   "execution_count": null,
   "id": "55d2f997",
   "metadata": {},
   "outputs": [],
   "source": [
    "for secName in cellRule['secs']:\n",
    "    cellRule['secs'][secName]['geom']['cm'] = 1\n",
    "    if secName.startswith('soma'):\n",
    "        cellRule['secs'][secName]['mechs']['hh'] = {\n",
    "            'gnabar': 0.12, \n",
    "            'gkbar': 0.036, \n",
    "            'gl': 0.003, \n",
    "            'el': -70,\n",
    "            }\n",
    "    else:\n",
    "        cellRule['secs'][secName]['mechs']['pas'] = {\n",
    "            'g': 0.0000357, \n",
    "            'e': -70,\n",
    "            }"
   ]
  },
  {
   "cell_type": "markdown",
   "id": "65b1719d",
   "metadata": {},
   "source": [
    "Now we'll make a population out of our imported cell."
   ]
  },
  {
   "cell_type": "code",
   "execution_count": null,
   "id": "5f193e4d",
   "metadata": {},
   "outputs": [],
   "source": [
    "netParams.popParams['swc_pop'] = {'cellType': 'swc_cell', 'numCells': 1}"
   ]
  },
  {
   "cell_type": "markdown",
   "id": "d3d3e187",
   "metadata": {},
   "source": [
    "Now we'll add a stimulation into the soma to cause an action potential."
   ]
  },
  {
   "cell_type": "code",
   "execution_count": null,
   "id": "7c65e76c",
   "metadata": {},
   "outputs": [],
   "source": [
    "netParams.synMechParams['exc'] = {\n",
    "    'mod': 'Exp2Syn', \n",
    "    'tau1': 0.1, \n",
    "    'tau2': 5.0, \n",
    "    'e': 0,\n",
    "}\n",
    "\n",
    "netParams.stimSourceParams['bkg'] = {\n",
    "    'type': 'NetStim', \n",
    "    'rate': 10, \n",
    "    'noise': 0.0,\n",
    "}\n",
    "\n",
    "netParams.stimTargetParams['bkg->swc_cell'] = {\n",
    "    'source': 'bkg', \n",
    "    'conds': {'cellType': 'swc_cell'}, \n",
    "    'weight': 0.1, \n",
    "    'delay': 10, \n",
    "    'synMech': 'exc',\n",
    "}"
   ]
  },
  {
   "cell_type": "markdown",
   "id": "cf16af32",
   "metadata": {},
   "source": [
    "Then we'll set up the simulation configuration."
   ]
  },
  {
   "cell_type": "code",
   "execution_count": null,
   "id": "9cc67e46",
   "metadata": {},
   "outputs": [],
   "source": [
    "cfg = specs.SimConfig()\n",
    "cfg.filename = 'plotshape'\n",
    "cfg.duration = 30\n",
    "cfg.recordTraces = {'V_soma': {'sec': 'soma', 'loc': 0.5, 'var': 'v'}}\n",
    "cfg.recordStep = 0.5\n",
    "cfg.analysis['plotTraces'] = {'include': ['all'], 'showFig': True}   "
   ]
  },
  {
   "cell_type": "markdown",
   "id": "c61aa7f8",
   "metadata": {},
   "source": [
    "At this point, we could complete everything with `sim.createSimulateAnalyze(netParams=netParams, simConfig=cfg)`, but we want to plot a movie frame at a certain interval, so we need to execute the simulation commands individually."
   ]
  },
  {
   "cell_type": "code",
   "execution_count": null,
   "id": "629664f1",
   "metadata": {},
   "outputs": [],
   "source": [
    "sim.initialize(simConfig=cfg, netParams=netParams)\n",
    "sim.net.createPops()\n",
    "sim.net.createCells()\n",
    "sim.net.connectCells()\n",
    "sim.net.addStims()\n",
    "sim.setupRecording()"
   ]
  },
  {
   "cell_type": "markdown",
   "id": "32d52364",
   "metadata": {},
   "source": [
    "At this point, we could run the simulation with `sim.runSim()`, but we want to execute the following at intervals:\n",
    "    \n",
    "    sim.analysis.plotShape(\n",
    "        includePre  = [0], \n",
    "        includePost = [0], \n",
    "        cvar        = 'voltage', \n",
    "        clim        = [-70, -20], \n",
    "        saveFig     = 'movie', \n",
    "        showFig     = False,\n",
    "    )\n",
    "    \n",
    "First we have to make a dictionary of the arguments we want to feed into plotShape:"
   ]
  },
  {
   "cell_type": "code",
   "execution_count": null,
   "id": "160d64c6",
   "metadata": {},
   "outputs": [],
   "source": [
    "plotArgs = {\n",
    "    'includePre' : [0], \n",
    "    'includePost': [0], \n",
    "    'cvar'       : 'voltage', \n",
    "    'clim'       : [-70, -20], \n",
    "    'saveFig'    : 'movie', \n",
    "    'showFig'    : False,\n",
    "}"
   ]
  },
  {
   "cell_type": "markdown",
   "id": "3646c7c7",
   "metadata": {},
   "source": [
    "Then we can replace `sim.runSim()` with:"
   ]
  },
  {
   "cell_type": "code",
   "execution_count": null,
   "id": "604595ac",
   "metadata": {},
   "outputs": [],
   "source": [
    "sim.runSimWithIntervalFunc(1.0, sim.analysis.plotShape, timeRange=[10, 20], funcArgs=plotArgs)"
   ]
  },
  {
   "cell_type": "markdown",
   "id": "3658cf09",
   "metadata": {},
   "source": [
    "This will execute `sim.analysis.plotShape` every 1.0 ms from 10 to 20 ms in the simulation and feed it the plotArgs dictionary we created above."
   ]
  },
  {
   "cell_type": "markdown",
   "id": "9c5b9bff",
   "metadata": {},
   "source": [
    "Once we're done simulating, we need to wrap up the final steps manually:"
   ]
  },
  {
   "cell_type": "code",
   "execution_count": null,
   "id": "32458af0",
   "metadata": {},
   "outputs": [],
   "source": [
    "sim.gatherData()\n",
    "sim.saveData()\n",
    "sim.analysis.plotData()"
   ]
  },
  {
   "cell_type": "markdown",
   "id": "b1b9ee95",
   "metadata": {},
   "source": [
    "Once everything is complete, we'll need to install a couple Python packages to make a movie from our frames."
   ]
  },
  {
   "cell_type": "code",
   "execution_count": null,
   "id": "123b65dd",
   "metadata": {},
   "outputs": [],
   "source": [
    "!python3 -m pip install natsort imageio"
   ]
  },
  {
   "cell_type": "markdown",
   "id": "26a342f4",
   "metadata": {},
   "source": [
    "Then the following will create an animated gif from the individual figures."
   ]
  },
  {
   "cell_type": "code",
   "execution_count": null,
   "id": "018b0494",
   "metadata": {},
   "outputs": [],
   "source": [
    "import os\n",
    "import natsort\n",
    "import imageio\n",
    "\n",
    "images = []\n",
    "filenames = natsort.natsorted([file for file in os.listdir() if 'movie' in file and file.endswith('.png')])\n",
    "for filename in filenames:\n",
    "    images.append(imageio.imread(filename))\n",
    "imageio.mimsave('shape_movie.gif', images)"
   ]
  },
  {
   "cell_type": "markdown",
   "id": "b9297bcd",
   "metadata": {},
   "source": [
    "Your movie should show up below:\n",
    "\n",
    "<img src=\"shape_movie.gif\">"
   ]
  }
 ],
 "metadata": {
  "kernelspec": {
   "display_name": "env",
   "language": "python",
   "name": "env"
  },
  "language_info": {
   "codemirror_mode": {
    "name": "ipython",
    "version": 3
   },
   "file_extension": ".py",
   "mimetype": "text/x-python",
   "name": "python",
   "nbconvert_exporter": "python",
   "pygments_lexer": "ipython3",
   "version": "3.8.2"
  }
 },
 "nbformat": 4,
 "nbformat_minor": 5
}
